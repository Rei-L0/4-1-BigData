{
  "cells": [
    {
      "cell_type": "markdown",
      "metadata": {
        "id": "view-in-github",
        "colab_type": "text"
      },
      "source": [
        "<a href=\"https://colab.research.google.com/github/Rei-L0/4-1-BigData/blob/main/10_PandasSeries.ipynb\" target=\"_parent\"><img src=\"https://colab.research.google.com/assets/colab-badge.svg\" alt=\"Open In Colab\"/></a>"
      ]
    },
    {
      "cell_type": "markdown",
      "metadata": {
        "cell_id": "00000-84f77a2c-30d3-4e83-9779-ecfe886ce927",
        "id": "mLXrdlLq5a3b"
      },
      "source": [
        "# Pandas Series\n",
        "\n",
        "![pandas](images/pandas.png \"Pandas Logo\")\n",
        "\n",
        "\n",
        "- Started by Wes MacKinney with a first release in 2011.\n",
        "- Based on NumPy, it is the most used library for all things data.\n",
        "- Motivated by the toolbox in R for manipulating data easily.\n",
        "- A lot of names in Pandas come from R world.\n",
        "- It is Open source (BSD)\n",
        "\n",
        "https://pandas.pydata.org/"
      ]
    },
    {
      "cell_type": "code",
      "source": [
        "from google.colab import drive\n",
        "drive.mount('/content/gdrive')\n"
      ],
      "metadata": {
        "colab": {
          "base_uri": "https://localhost:8080/"
        },
        "id": "azbhBntM_YD0",
        "outputId": "2eb68e22-9da3-460d-a93d-c4f1be3c8fc0"
      },
      "execution_count": 18,
      "outputs": [
        {
          "output_type": "stream",
          "name": "stdout",
          "text": [
            "Mounted at /content/gdrive\n"
          ]
        }
      ]
    },
    {
      "cell_type": "code",
      "source": [
        "pwd"
      ],
      "metadata": {
        "colab": {
          "base_uri": "https://localhost:8080/",
          "height": 35
        },
        "id": "btDzFtP5_4v_",
        "outputId": "01054d75-8c57-4af5-ee32-68dc5e39a63b"
      },
      "execution_count": 19,
      "outputs": [
        {
          "output_type": "execute_result",
          "data": {
            "text/plain": [
              "'/content'"
            ],
            "application/vnd.google.colaboratory.intrinsic+json": {
              "type": "string"
            }
          },
          "metadata": {},
          "execution_count": 19
        }
      ]
    },
    {
      "cell_type": "markdown",
      "metadata": {
        "cell_id": "00001-ee8a379b-c139-4619-92c0-0dcc8efeeabf",
        "id": "rEyO-DEe5a3h"
      },
      "source": [
        "```python\n",
        "import pandas as pd\n",
        "```\n",
        "\n",
        "\"*Pandas provides high-performance, easy-to-use data structures \n",
        "and data analysis tools in Python*\"\n",
        "\n",
        "- Self-describing data structures\n",
        "- Data loaders to/from common file formats\n",
        "- Plotting functions\n",
        "- Basic statistical tools."
      ]
    },
    {
      "cell_type": "code",
      "execution_count": null,
      "metadata": {
        "cell_id": "00002-6e6ebda8-7419-47fb-90a2-ee91f297ca5c",
        "execution_millis": 1384,
        "execution_start": 1604928732612,
        "output_cleared": false,
        "source_hash": "774a64a2",
        "id": "PM5CUD3P5a3j"
      },
      "outputs": [],
      "source": [
        "%matplotlib inline\n",
        "%config InlineBackend.figure_format = 'retina'\n",
        "import pandas as pd\n",
        "import numpy as np\n",
        "import matplotlib.pyplot as plt\n",
        "import seaborn as sns\n",
        "sns.set()\n",
        "pd.set_option(\"display.max_rows\", 8)\n",
        "plt.rcParams['figure.figsize'] = (9, 6)"
      ]
    },
    {
      "cell_type": "markdown",
      "metadata": {
        "cell_id": "00003-fe2e4404-8b3e-46b4-ba23-6286a006a8da",
        "id": "taJk1tHN5a3l"
      },
      "source": [
        "## [Series](https://pandas.pydata.org/pandas-docs/stable/dsintro.html#series)\n",
        "\n",
        "- A Series contains a one-dimensional array of data, *and* an associated sequence of labels called the *index*.\n",
        "- The index can contain numeric, string, or date/time values.\n",
        "- When the index is a time value, the series is a [time series](https://en.wikipedia.org/wiki/Time_series).\n",
        "- The index must be the same length as the data.\n",
        "- If no index is supplied it is automatically generated as `range(len(data))`."
      ]
    },
    {
      "cell_type": "code",
      "execution_count": null,
      "metadata": {
        "cell_id": "00004-1ebd1d12-f259-4f95-9f28-dd5a3a5af928",
        "execution_millis": 21,
        "execution_start": 1604928739183,
        "output_cleared": false,
        "source_hash": "bc816813",
        "colab": {
          "base_uri": "https://localhost:8080/"
        },
        "id": "pldFl_VS5a3m",
        "outputId": "6f1d70cd-5432-4f02-8bec-2019f06f928d"
      },
      "outputs": [
        {
          "output_type": "execute_result",
          "data": {
            "text/plain": [
              "0    1.0\n",
              "1    3.0\n",
              "2    5.0\n",
              "3    NaN\n",
              "4    6.0\n",
              "5    8.0\n",
              "dtype: float64"
            ]
          },
          "metadata": {},
          "execution_count": 3
        }
      ],
      "source": [
        "pd.Series([1,3,5,np.nan,6,8], dtype=np.float64)"
      ]
    },
    {
      "cell_type": "code",
      "execution_count": null,
      "metadata": {
        "cell_id": "00005-d4bc0a60-8059-462c-9374-b63d835e4cc8",
        "execution_millis": 29,
        "execution_start": 1604928740625,
        "output_cleared": false,
        "source_hash": "f3135575",
        "colab": {
          "base_uri": "https://localhost:8080/"
        },
        "id": "zQ0NBi5R5a3m",
        "outputId": "7a26f0f9-2848-4706-a3a7-5ac6f4d0d32f"
      },
      "outputs": [
        {
          "output_type": "execute_result",
          "data": {
            "text/plain": [
              "2017-09-11   NaN\n",
              "2017-09-12   NaN\n",
              "2017-09-13   NaN\n",
              "2017-09-14   NaN\n",
              "2017-09-15   NaN\n",
              "2017-09-16   NaN\n",
              "2017-09-17   NaN\n",
              "2017-09-18   NaN\n",
              "Freq: D, dtype: float64"
            ]
          },
          "metadata": {},
          "execution_count": 4
        }
      ],
      "source": [
        "pd.Series(index=pd.period_range('09/11/2017', '09/18/2017', freq=\"D\"), dtype=np.int8)"
      ]
    },
    {
      "cell_type": "markdown",
      "metadata": {
        "cell_id": "00006-cb7862ee-686c-4f53-bff7-31011d4807d8",
        "id": "SKJnsZRh5a3n"
      },
      "source": [
        "### Exercise\n",
        "- Create a text with `lorem` and count word occurences with a `collection.Counter`. Put the result in a `dict`."
      ]
    },
    {
      "cell_type": "markdown",
      "metadata": {
        "cell_id": "00007-51121ad0-ba8d-4ad9-b702-efe68a2acdb7",
        "id": "fesNFXHG5a3o"
      },
      "source": [
        "### Exercise\n",
        "- From the results create a Pandas series name latin_series with words in alphabetical order as index."
      ]
    },
    {
      "cell_type": "code",
      "execution_count": 20,
      "metadata": {
        "cell_id": "00008-93c5e0ea-c9e8-4756-83f1-a23bff2bbcf4",
        "colab": {
          "base_uri": "https://localhost:8080/",
          "height": 190
        },
        "id": "Zh0m9iCO5a3p",
        "outputId": "33fc7fe2-0375-4778-8c5b-4d77eeffbd24"
      },
      "outputs": [
        {
          "output_type": "error",
          "ename": "NameError",
          "evalue": "ignored",
          "traceback": [
            "\u001b[0;31m---------------------------------------------------------------------------\u001b[0m",
            "\u001b[0;31mNameError\u001b[0m                                 Traceback (most recent call last)",
            "\u001b[0;32m<ipython-input-20-4bbb868e95fe>\u001b[0m in \u001b[0;36m<cell line: 1>\u001b[0;34m()\u001b[0m\n\u001b[0;32m----> 1\u001b[0;31m \u001b[0mdf\u001b[0m \u001b[0;34m=\u001b[0m \u001b[0mpd\u001b[0m\u001b[0;34m.\u001b[0m\u001b[0mSeries\u001b[0m\u001b[0;34m(\u001b[0m\u001b[0mresult\u001b[0m\u001b[0;34m)\u001b[0m\u001b[0;34m\u001b[0m\u001b[0;34m\u001b[0m\u001b[0m\n\u001b[0m\u001b[1;32m      2\u001b[0m \u001b[0mdf\u001b[0m\u001b[0;34m\u001b[0m\u001b[0;34m\u001b[0m\u001b[0m\n",
            "\u001b[0;31mNameError\u001b[0m: name 'result' is not defined"
          ]
        }
      ],
      "source": [
        "df = pd.Series(result)\n",
        "df"
      ]
    },
    {
      "cell_type": "markdown",
      "metadata": {
        "cell_id": "00009-3d06868f-dff2-4bd6-b31e-b6817a6f5872",
        "id": "iFfpIqYg5a3p"
      },
      "source": [
        "### Exercise\n",
        "\n",
        "- Plot the series using 'bar' kind."
      ]
    },
    {
      "cell_type": "markdown",
      "metadata": {
        "cell_id": "00010-04977e21-abf2-408b-afc3-a318a100b1ed",
        "id": "_nTLPpPA5a3q"
      },
      "source": [
        "### Exercise\n",
        "- Pandas provides explicit functions for indexing `loc` and `iloc`.\n",
        "    - Use `loc` to display the number of occurrences of 'dolore'.\n",
        "    - Use `iloc` to diplay the number of occurrences of the last word in index."
      ]
    },
    {
      "cell_type": "markdown",
      "metadata": {
        "cell_id": "00011-0095c4d4-eb90-4a07-8dc5-67952a6588ff",
        "id": "xumuVC8F5a3r"
      },
      "source": [
        "### Exercise\n",
        "- Sort words by number of occurrences.\n",
        "- Plot the Series."
      ]
    },
    {
      "cell_type": "markdown",
      "metadata": {
        "cell_id": "00012-8327cd7e-1a41-4a54-b717-9be92936384e",
        "id": "8yTa7oLk5a3r"
      },
      "source": [
        "### Full globe temperature between 1901 and 2000.\n",
        "\n",
        "We read the text file and load the results in a pandas dataframe. \n",
        "In cells below you need to clean the data and convert the dataframe to a time series."
      ]
    },
    {
      "cell_type": "code",
      "execution_count": 21,
      "metadata": {
        "cell_id": "00013-d7a4604a-6476-412c-ae02-c8d468c38dc0",
        "colab": {
          "base_uri": "https://localhost:8080/",
          "height": 414
        },
        "id": "0eHAcqfS5a3s",
        "outputId": "ecccf73e-64eb-416d-c31e-91d94c505066"
      },
      "outputs": [
        {
          "output_type": "error",
          "ename": "FileNotFoundError",
          "evalue": "ignored",
          "traceback": [
            "\u001b[0;31m---------------------------------------------------------------------------\u001b[0m",
            "\u001b[0;31mFileNotFoundError\u001b[0m                         Traceback (most recent call last)",
            "\u001b[0;32m<ipython-input-21-6efbd0d70e9c>\u001b[0m in \u001b[0;36m<cell line: 6>\u001b[0;34m()\u001b[0m\n\u001b[1;32m      4\u001b[0m \u001b[0mfilename\u001b[0m \u001b[0;34m=\u001b[0m \u001b[0mos\u001b[0m\u001b[0;34m.\u001b[0m\u001b[0mpath\u001b[0m\u001b[0;34m.\u001b[0m\u001b[0mjoin\u001b[0m\u001b[0;34m(\u001b[0m\u001b[0mhere\u001b[0m\u001b[0;34m,\u001b[0m\u001b[0;34m\"data\"\u001b[0m\u001b[0;34m,\u001b[0m\u001b[0;34m\"monthly.land.90S.90N.df_1901-2000mean.dat.txt\"\u001b[0m\u001b[0;34m)\u001b[0m\u001b[0;34m\u001b[0m\u001b[0;34m\u001b[0m\u001b[0m\n\u001b[1;32m      5\u001b[0m \u001b[0;34m\u001b[0m\u001b[0m\n\u001b[0;32m----> 6\u001b[0;31m df = pd.read_table(filename, sep=\"\\s+\", \n\u001b[0m\u001b[1;32m      7\u001b[0m                    names=[\"year\", \"month\", \"mean temp\"])\n\u001b[1;32m      8\u001b[0m \u001b[0mdf\u001b[0m\u001b[0;34m.\u001b[0m\u001b[0minfo\u001b[0m\u001b[0;34m(\u001b[0m\u001b[0;34m)\u001b[0m\u001b[0;34m\u001b[0m\u001b[0;34m\u001b[0m\u001b[0m\n",
            "\u001b[0;32m/usr/local/lib/python3.9/dist-packages/pandas/util/_decorators.py\u001b[0m in \u001b[0;36mwrapper\u001b[0;34m(*args, **kwargs)\u001b[0m\n\u001b[1;32m    309\u001b[0m                     \u001b[0mstacklevel\u001b[0m\u001b[0;34m=\u001b[0m\u001b[0mstacklevel\u001b[0m\u001b[0;34m,\u001b[0m\u001b[0;34m\u001b[0m\u001b[0;34m\u001b[0m\u001b[0m\n\u001b[1;32m    310\u001b[0m                 )\n\u001b[0;32m--> 311\u001b[0;31m             \u001b[0;32mreturn\u001b[0m \u001b[0mfunc\u001b[0m\u001b[0;34m(\u001b[0m\u001b[0;34m*\u001b[0m\u001b[0margs\u001b[0m\u001b[0;34m,\u001b[0m \u001b[0;34m**\u001b[0m\u001b[0mkwargs\u001b[0m\u001b[0;34m)\u001b[0m\u001b[0;34m\u001b[0m\u001b[0;34m\u001b[0m\u001b[0m\n\u001b[0m\u001b[1;32m    312\u001b[0m \u001b[0;34m\u001b[0m\u001b[0m\n\u001b[1;32m    313\u001b[0m         \u001b[0;32mreturn\u001b[0m \u001b[0mwrapper\u001b[0m\u001b[0;34m\u001b[0m\u001b[0;34m\u001b[0m\u001b[0m\n",
            "\u001b[0;32m/usr/local/lib/python3.9/dist-packages/pandas/io/parsers/readers.py\u001b[0m in \u001b[0;36mread_table\u001b[0;34m(filepath_or_buffer, sep, delimiter, header, names, index_col, usecols, squeeze, prefix, mangle_dupe_cols, dtype, engine, converters, true_values, false_values, skipinitialspace, skiprows, skipfooter, nrows, na_values, keep_default_na, na_filter, verbose, skip_blank_lines, parse_dates, infer_datetime_format, keep_date_col, date_parser, dayfirst, cache_dates, iterator, chunksize, compression, thousands, decimal, lineterminator, quotechar, quoting, doublequote, escapechar, comment, encoding, encoding_errors, dialect, error_bad_lines, warn_bad_lines, on_bad_lines, delim_whitespace, low_memory, memory_map, float_precision, storage_options)\u001b[0m\n\u001b[1;32m    775\u001b[0m     \u001b[0mkwds\u001b[0m\u001b[0;34m.\u001b[0m\u001b[0mupdate\u001b[0m\u001b[0;34m(\u001b[0m\u001b[0mkwds_defaults\u001b[0m\u001b[0;34m)\u001b[0m\u001b[0;34m\u001b[0m\u001b[0;34m\u001b[0m\u001b[0m\n\u001b[1;32m    776\u001b[0m \u001b[0;34m\u001b[0m\u001b[0m\n\u001b[0;32m--> 777\u001b[0;31m     \u001b[0;32mreturn\u001b[0m \u001b[0m_read\u001b[0m\u001b[0;34m(\u001b[0m\u001b[0mfilepath_or_buffer\u001b[0m\u001b[0;34m,\u001b[0m \u001b[0mkwds\u001b[0m\u001b[0;34m)\u001b[0m\u001b[0;34m\u001b[0m\u001b[0;34m\u001b[0m\u001b[0m\n\u001b[0m\u001b[1;32m    778\u001b[0m \u001b[0;34m\u001b[0m\u001b[0m\n\u001b[1;32m    779\u001b[0m \u001b[0;34m\u001b[0m\u001b[0m\n",
            "\u001b[0;32m/usr/local/lib/python3.9/dist-packages/pandas/io/parsers/readers.py\u001b[0m in \u001b[0;36m_read\u001b[0;34m(filepath_or_buffer, kwds)\u001b[0m\n\u001b[1;32m    573\u001b[0m \u001b[0;34m\u001b[0m\u001b[0m\n\u001b[1;32m    574\u001b[0m     \u001b[0;31m# Create the parser.\u001b[0m\u001b[0;34m\u001b[0m\u001b[0;34m\u001b[0m\u001b[0m\n\u001b[0;32m--> 575\u001b[0;31m     \u001b[0mparser\u001b[0m \u001b[0;34m=\u001b[0m \u001b[0mTextFileReader\u001b[0m\u001b[0;34m(\u001b[0m\u001b[0mfilepath_or_buffer\u001b[0m\u001b[0;34m,\u001b[0m \u001b[0;34m**\u001b[0m\u001b[0mkwds\u001b[0m\u001b[0;34m)\u001b[0m\u001b[0;34m\u001b[0m\u001b[0;34m\u001b[0m\u001b[0m\n\u001b[0m\u001b[1;32m    576\u001b[0m \u001b[0;34m\u001b[0m\u001b[0m\n\u001b[1;32m    577\u001b[0m     \u001b[0;32mif\u001b[0m \u001b[0mchunksize\u001b[0m \u001b[0;32mor\u001b[0m \u001b[0miterator\u001b[0m\u001b[0;34m:\u001b[0m\u001b[0;34m\u001b[0m\u001b[0;34m\u001b[0m\u001b[0m\n",
            "\u001b[0;32m/usr/local/lib/python3.9/dist-packages/pandas/io/parsers/readers.py\u001b[0m in \u001b[0;36m__init__\u001b[0;34m(self, f, engine, **kwds)\u001b[0m\n\u001b[1;32m    930\u001b[0m \u001b[0;34m\u001b[0m\u001b[0m\n\u001b[1;32m    931\u001b[0m         \u001b[0mself\u001b[0m\u001b[0;34m.\u001b[0m\u001b[0mhandles\u001b[0m\u001b[0;34m:\u001b[0m \u001b[0mIOHandles\u001b[0m \u001b[0;34m|\u001b[0m \u001b[0;32mNone\u001b[0m \u001b[0;34m=\u001b[0m \u001b[0;32mNone\u001b[0m\u001b[0;34m\u001b[0m\u001b[0;34m\u001b[0m\u001b[0m\n\u001b[0;32m--> 932\u001b[0;31m         \u001b[0mself\u001b[0m\u001b[0;34m.\u001b[0m\u001b[0m_engine\u001b[0m \u001b[0;34m=\u001b[0m \u001b[0mself\u001b[0m\u001b[0;34m.\u001b[0m\u001b[0m_make_engine\u001b[0m\u001b[0;34m(\u001b[0m\u001b[0mf\u001b[0m\u001b[0;34m,\u001b[0m \u001b[0mself\u001b[0m\u001b[0;34m.\u001b[0m\u001b[0mengine\u001b[0m\u001b[0;34m)\u001b[0m\u001b[0;34m\u001b[0m\u001b[0;34m\u001b[0m\u001b[0m\n\u001b[0m\u001b[1;32m    933\u001b[0m \u001b[0;34m\u001b[0m\u001b[0m\n\u001b[1;32m    934\u001b[0m     \u001b[0;32mdef\u001b[0m \u001b[0mclose\u001b[0m\u001b[0;34m(\u001b[0m\u001b[0mself\u001b[0m\u001b[0;34m)\u001b[0m\u001b[0;34m:\u001b[0m\u001b[0;34m\u001b[0m\u001b[0;34m\u001b[0m\u001b[0m\n",
            "\u001b[0;32m/usr/local/lib/python3.9/dist-packages/pandas/io/parsers/readers.py\u001b[0m in \u001b[0;36m_make_engine\u001b[0;34m(self, f, engine)\u001b[0m\n\u001b[1;32m   1214\u001b[0m             \u001b[0;31m# \"Union[str, PathLike[str], ReadCsvBuffer[bytes], ReadCsvBuffer[str]]\"\u001b[0m\u001b[0;34m\u001b[0m\u001b[0;34m\u001b[0m\u001b[0m\n\u001b[1;32m   1215\u001b[0m             \u001b[0;31m# , \"str\", \"bool\", \"Any\", \"Any\", \"Any\", \"Any\", \"Any\"\u001b[0m\u001b[0;34m\u001b[0m\u001b[0;34m\u001b[0m\u001b[0m\n\u001b[0;32m-> 1216\u001b[0;31m             self.handles = get_handle(  # type: ignore[call-overload]\n\u001b[0m\u001b[1;32m   1217\u001b[0m                 \u001b[0mf\u001b[0m\u001b[0;34m,\u001b[0m\u001b[0;34m\u001b[0m\u001b[0;34m\u001b[0m\u001b[0m\n\u001b[1;32m   1218\u001b[0m                 \u001b[0mmode\u001b[0m\u001b[0;34m,\u001b[0m\u001b[0;34m\u001b[0m\u001b[0;34m\u001b[0m\u001b[0m\n",
            "\u001b[0;32m/usr/local/lib/python3.9/dist-packages/pandas/io/common.py\u001b[0m in \u001b[0;36mget_handle\u001b[0;34m(path_or_buf, mode, encoding, compression, memory_map, is_text, errors, storage_options)\u001b[0m\n\u001b[1;32m    784\u001b[0m         \u001b[0;32mif\u001b[0m \u001b[0mioargs\u001b[0m\u001b[0;34m.\u001b[0m\u001b[0mencoding\u001b[0m \u001b[0;32mand\u001b[0m \u001b[0;34m\"b\"\u001b[0m \u001b[0;32mnot\u001b[0m \u001b[0;32min\u001b[0m \u001b[0mioargs\u001b[0m\u001b[0;34m.\u001b[0m\u001b[0mmode\u001b[0m\u001b[0;34m:\u001b[0m\u001b[0;34m\u001b[0m\u001b[0;34m\u001b[0m\u001b[0m\n\u001b[1;32m    785\u001b[0m             \u001b[0;31m# Encoding\u001b[0m\u001b[0;34m\u001b[0m\u001b[0;34m\u001b[0m\u001b[0m\n\u001b[0;32m--> 786\u001b[0;31m             handle = open(\n\u001b[0m\u001b[1;32m    787\u001b[0m                 \u001b[0mhandle\u001b[0m\u001b[0;34m,\u001b[0m\u001b[0;34m\u001b[0m\u001b[0;34m\u001b[0m\u001b[0m\n\u001b[1;32m    788\u001b[0m                 \u001b[0mioargs\u001b[0m\u001b[0;34m.\u001b[0m\u001b[0mmode\u001b[0m\u001b[0;34m,\u001b[0m\u001b[0;34m\u001b[0m\u001b[0;34m\u001b[0m\u001b[0m\n",
            "\u001b[0;31mFileNotFoundError\u001b[0m: [Errno 2] No such file or directory: '/content/data/monthly.land.90S.90N.df_1901-2000mean.dat.txt'"
          ]
        }
      ],
      "source": [
        "import os\n",
        "here = os.getcwd()\n",
        "\n",
        "filename = os.path.join(here,\"data\",\"monthly.land.90S.90N.df_1901-2000mean.dat.txt\")\n",
        "\n",
        "df = pd.read_table(filename, sep=\"\\s+\", \n",
        "                   names=[\"year\", \"month\", \"mean temp\"])\n",
        "df.info()"
      ]
    },
    {
      "cell_type": "markdown",
      "metadata": {
        "cell_id": "00014-4f6e3038-91ac-4cfd-bd2c-4685fa09cf02",
        "id": "bsv6MJ-25a3s"
      },
      "source": [
        "### Exercise\n",
        "- Insert a third column with value one named \"day\" with `.insert`.\n",
        "- convert df index to datetime with `pd.to_datetime` function.\n",
        "- convert df to Series containing only \"mean temp\" column."
      ]
    },
    {
      "cell_type": "markdown",
      "metadata": {
        "cell_id": "00015-ce095159-5849-491e-a407-b2644800e373",
        "id": "SUGUVPtw5a3t"
      },
      "source": [
        "### Exercise \n",
        "- Display the beginning of the file with `.head`."
      ]
    },
    {
      "cell_type": "code",
      "source": [
        "df.head()"
      ],
      "metadata": {
        "colab": {
          "base_uri": "https://localhost:8080/",
          "height": 172
        },
        "id": "1g1AgUL66ABB",
        "outputId": "752f1f55-c9eb-46b9-c50d-f80c824f76c8"
      },
      "execution_count": null,
      "outputs": [
        {
          "output_type": "error",
          "ename": "NameError",
          "evalue": "ignored",
          "traceback": [
            "\u001b[0;31m---------------------------------------------------------------------------\u001b[0m",
            "\u001b[0;31mNameError\u001b[0m                                 Traceback (most recent call last)",
            "\u001b[0;32m<ipython-input-6-c42a15b2c7cf>\u001b[0m in \u001b[0;36m<cell line: 1>\u001b[0;34m()\u001b[0m\n\u001b[0;32m----> 1\u001b[0;31m \u001b[0mdf\u001b[0m\u001b[0;34m.\u001b[0m\u001b[0mhead\u001b[0m\u001b[0;34m(\u001b[0m\u001b[0;34m)\u001b[0m\u001b[0;34m\u001b[0m\u001b[0;34m\u001b[0m\u001b[0m\n\u001b[0m",
            "\u001b[0;31mNameError\u001b[0m: name 'df' is not defined"
          ]
        }
      ]
    },
    {
      "cell_type": "markdown",
      "metadata": {
        "cell_id": "00016-d045c741-9839-4494-b554-554894ed8369",
        "id": "XOjsP7ma5a3t"
      },
      "source": [
        "### Exercise \n",
        "- Display the end of the file with `.tail`."
      ]
    },
    {
      "cell_type": "code",
      "source": [
        "df.tail()"
      ],
      "metadata": {
        "colab": {
          "base_uri": "https://localhost:8080/",
          "height": 172
        },
        "id": "ueJjKCdq9fkZ",
        "outputId": "528da81d-669c-4d2c-f27a-3737644457bd"
      },
      "execution_count": 13,
      "outputs": [
        {
          "output_type": "error",
          "ename": "NameError",
          "evalue": "ignored",
          "traceback": [
            "\u001b[0;31m---------------------------------------------------------------------------\u001b[0m",
            "\u001b[0;31mNameError\u001b[0m                                 Traceback (most recent call last)",
            "\u001b[0;32m<ipython-input-13-4add252522c8>\u001b[0m in \u001b[0;36m<cell line: 1>\u001b[0;34m()\u001b[0m\n\u001b[0;32m----> 1\u001b[0;31m \u001b[0mdf\u001b[0m\u001b[0;34m.\u001b[0m\u001b[0mtail\u001b[0m\u001b[0;34m(\u001b[0m\u001b[0;34m)\u001b[0m\u001b[0;34m\u001b[0m\u001b[0;34m\u001b[0m\u001b[0m\n\u001b[0m",
            "\u001b[0;31mNameError\u001b[0m: name 'df' is not defined"
          ]
        }
      ]
    },
    {
      "cell_type": "markdown",
      "metadata": {
        "cell_id": "00017-f21f2e40-0bce-4d9f-bef2-2aeb9b950fd8",
        "id": "LT5eWhud5a3t"
      },
      "source": [
        "In the dataset, -999.00 was used to indicate that there was no value for that year.\n",
        "\n",
        "### Exercise\n",
        "\n",
        "- Display values equal to -999 with `.values`. \n",
        "- Replace the missing value (-999.000) by `np.nan`"
      ]
    },
    {
      "cell_type": "markdown",
      "metadata": {
        "cell_id": "00018-23ae3abf-ceed-4f33-a18c-5308222881b9",
        "id": "iOhTqEcy5a3u"
      },
      "source": [
        "Once they have been converted to np.nan, missing values can be removed (dropped).\n",
        "\n",
        "### Exercise \n",
        "- Remove missing values with `.dropna`."
      ]
    },
    {
      "cell_type": "markdown",
      "metadata": {
        "cell_id": "00019-aede21a5-faa8-45b6-a56c-62b20399dc7e",
        "id": "DY3loi0U5a3u"
      },
      "source": [
        "### Exercise\n",
        "- Generate a basic visualization using `.plot`."
      ]
    },
    {
      "cell_type": "markdown",
      "metadata": {
        "cell_id": "00020-7707a9c7-eb2a-471e-965f-ec0f863c34b6",
        "id": "MVmIeufR5a3v"
      },
      "source": [
        "### Exercise\n",
        "\n",
        "Convert df index from timestamp to period is more meaningfull since it was measured and averaged over the month. Use `to_period` method."
      ]
    },
    {
      "cell_type": "markdown",
      "metadata": {
        "cell_id": "00021-d5ff7bd7-6a6e-4ae0-bc6b-32eef9e4892a",
        "id": "8vi59LJ25a3v"
      },
      "source": [
        "## Resampling\n",
        "\n",
        "Series can be resample, downsample or upsample.\n",
        "- Frequencies can be specified as strings: \"us\", \"ms\", \"S\", \"T\", \"H\", \"D\", \"B\", \"W\", \"M\", \"A\", \"3min\", \"2h20\", ...\n",
        "- More aliases at http://pandas.pydata.org/pandas-docs/stable/timeseries.html#offset-aliases\n",
        "\n",
        "### Exercise\n",
        "\n",
        "- With `resample` method, convert df Series to 10 year blocks:"
      ]
    },
    {
      "cell_type": "markdown",
      "metadata": {
        "cell_id": "00022-ddab592f-9661-49f7-a661-ac7ba0629da0",
        "id": "jrhIq_Q-5a3v"
      },
      "source": [
        "### Saving Work"
      ]
    },
    {
      "cell_type": "markdown",
      "metadata": {
        "cell_id": "00023-bce32354-70b2-41b2-9d59-c4579ccca3e0",
        "id": "NrqATOil5a3w"
      },
      "source": [
        "[HDF5](https://support.hdfgroup.org/HDF5/) is widely used and one of the most powerful file format to store binary data. It allows to store both Series and DataFrames."
      ]
    },
    {
      "cell_type": "code",
      "execution_count": null,
      "metadata": {
        "cell_id": "00024-99e4e168-7177-41c1-a7de-51130e5454ce",
        "id": "6dikoUb95a3w"
      },
      "outputs": [],
      "source": [
        "with pd.HDFStore(\"data/pandas_series.h5\") as writer:\n",
        "    df.to_hdf(writer, \"/temperatures/full_globe\")"
      ]
    },
    {
      "cell_type": "markdown",
      "metadata": {
        "cell_id": "00025-fbe87151-d9dc-48e9-84c8-2df5f1992a67",
        "id": "uBjUJDa_5a3x"
      },
      "source": [
        "### Reloading data"
      ]
    },
    {
      "cell_type": "code",
      "execution_count": null,
      "metadata": {
        "cell_id": "00026-a31b8c65-b19c-4dad-96b0-5d98a6f00b21",
        "id": "rEmxibzy5a3x"
      },
      "outputs": [],
      "source": [
        "with pd.HDFStore(\"data/pandas_series.h5\") as store:\n",
        "    df = store[\"/temperatures/full_globe\"]"
      ]
    }
  ],
  "metadata": {
    "deepnote_execution_queue": [],
    "deepnote_notebook_id": "680ceebd-d0c8-45f4-bf53-db6b222b2321",
    "kernelspec": {
      "display_name": "big-data",
      "language": "python",
      "name": "big-data"
    },
    "colab": {
      "provenance": [],
      "toc_visible": true,
      "include_colab_link": true
    }
  },
  "nbformat": 4,
  "nbformat_minor": 0
}