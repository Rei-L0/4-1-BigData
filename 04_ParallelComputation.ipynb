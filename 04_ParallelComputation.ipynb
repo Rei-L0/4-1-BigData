{
  "cells": [
    {
      "cell_type": "markdown",
      "metadata": {
        "id": "view-in-github",
        "colab_type": "text"
      },
      "source": [
        "<a href=\"https://colab.research.google.com/github/Rei-L0/4-1-BigData/blob/main/04_ParallelComputation.ipynb\" target=\"_parent\"><img src=\"https://colab.research.google.com/assets/colab-badge.svg\" alt=\"Open In Colab\"/></a>"
      ]
    },
    {
      "cell_type": "markdown",
      "metadata": {
        "cell_id": "00000-7f5358b0-f5e4-4239-b111-a84cac89d008",
        "deepnote_cell_type": "markdown",
        "id": "HHdHQyuX1Cn9"
      },
      "source": [
        "# Parallel Computation\n",
        "\n",
        "Python과 수행하는 병렬처리 방법\n",
        "\n",
        "## Parallel computers\n",
        "- Multiprocessor/multicore: 여러 개의 프로세서들이 공유되는 메모리에서 데이터를 처리\n",
        "- Cluster: 여러 개의 프로세서/메모리 유닛(units)들이 네트워크 위에서 데이터를 교환함으로써 처리를 함께 수행함\n",
        "- Co-processor: general-purpose 프로세서는 GPU와 같은 special-purpose에 특정 작업을 위임(delegates)"
      ]
    },
    {
      "cell_type": "markdown",
      "metadata": {
        "cell_id": "00001-c89520b2-79d7-41b1-bc94-bef944269719",
        "deepnote_cell_type": "markdown",
        "id": "5YuikLMf1CoB"
      },
      "source": [
        "## Parallel Programming\n",
        "- 전체 tasks을 독립적인 subtasks로 분해(decomposition) 그리고 그들간의 데이터 흐름을 정의\n",
        "- 프로세서들 위에 subtasks들을 배분하여 전체실행시간(total execution time)을 최소화함\n",
        "- For clusters: communication time을 최소화하기 위해 노드(nodes) 위의 데이터의 적절한 배분이 필요\n",
        "- For multiprocessors: 대기 시간(waiting times)을 최소화하기 위해 메모리 접근 패턴을 최적화함\n",
        "- 개별 프로세스간의 동기화(Synchronization)"
      ]
    },
    {
      "cell_type": "markdown",
      "metadata": {
        "cell_id": "00002-8ed39e2b-06d6-4b45-a07b-93c7426d8866",
        "deepnote_cell_type": "markdown",
        "id": "wVnVed3y1CoC"
      },
      "source": [
        "## MapReduce"
      ]
    },
    {
      "cell_type": "code",
      "execution_count": null,
      "metadata": {
        "cell_id": "00003-a6d0d1b5-7958-41b2-86cf-215e54f2567e",
        "deepnote_cell_type": "code",
        "output_cleared": false,
        "pycharm": {
          "is_executing": true
        },
        "colab": {
          "base_uri": "https://localhost:8080/"
        },
        "id": "QaiNYFju1CoD",
        "outputId": "94c66e4e-0386-4aa5-e5c3-51216c702e0c"
      },
      "outputs": [
        {
          "output_type": "execute_result",
          "data": {
            "text/plain": [
              "[0, 1, 2, 3, 4, 5, 6, 7]"
            ]
          },
          "metadata": {},
          "execution_count": 1
        }
      ],
      "source": [
        "from time import sleep\n",
        "def f(x):\n",
        "    sleep(1)\n",
        "    return x*x\n",
        "L = list(range(8))\n",
        "L"
      ]
    },
    {
      "cell_type": "markdown",
      "source": [
        "`%time` 명령어를 이용하여 코드 셸의 수행시간을 측정함"
      ],
      "metadata": {
        "collapsed": false,
        "id": "78rsW3DI1CoE"
      }
    },
    {
      "cell_type": "code",
      "execution_count": null,
      "metadata": {
        "cell_id": "00004-0368a8cd-8a8e-46e5-86ac-690071ddedd7",
        "deepnote_cell_type": "code",
        "output_cleared": false,
        "colab": {
          "base_uri": "https://localhost:8080/"
        },
        "id": "xgIwKNnx1CoE",
        "outputId": "7c8f3b13-67ae-4195-c0f0-c48044334de0"
      },
      "outputs": [
        {
          "output_type": "stream",
          "name": "stdout",
          "text": [
            "CPU times: user 23.7 ms, sys: 3.31 ms, total: 27 ms\n",
            "Wall time: 8.01 s\n"
          ]
        },
        {
          "output_type": "execute_result",
          "data": {
            "text/plain": [
              "140"
            ]
          },
          "metadata": {},
          "execution_count": 2
        }
      ],
      "source": [
        "%time sum(f(x) for x in L)"
      ]
    },
    {
      "cell_type": "code",
      "execution_count": null,
      "metadata": {
        "cell_id": "00005-f2152918-0d12-4c04-9c6d-998ff31bda75",
        "deepnote_cell_type": "code",
        "output_cleared": false,
        "colab": {
          "base_uri": "https://localhost:8080/"
        },
        "id": "U0R4mdz41CoF",
        "outputId": "7fb23f69-7616-48ec-f074-3a2237307dcc"
      },
      "outputs": [
        {
          "output_type": "stream",
          "name": "stdout",
          "text": [
            "CPU times: user 21.9 ms, sys: 7.54 ms, total: 29.5 ms\n",
            "Wall time: 8.01 s\n"
          ]
        },
        {
          "output_type": "execute_result",
          "data": {
            "text/plain": [
              "140"
            ]
          },
          "metadata": {},
          "execution_count": 3
        }
      ],
      "source": [
        "%time sum(map(f,L))"
      ]
    },
    {
      "cell_type": "markdown",
      "metadata": {
        "cell_id": "00006-90276e80-5472-4382-921f-9f1cd0c80459",
        "deepnote_cell_type": "markdown",
        "id": "YjCVSawr1CoF"
      },
      "source": [
        "## Multiprocessing \n",
        "\n",
        "`multiprocessing` 라이브러리는 spawning processes를 지원함\n",
        "우리는 컴퓨터 내 우리가 launch할 수 있는 병렬 프로세스( concurrent processes )의 개수를 보여줄 수 있음\n",
        "We can use it to display how many concurrent processes you can launch on your computer."
      ]
    },
    {
      "cell_type": "code",
      "execution_count": null,
      "metadata": {
        "cell_id": "00007-54f6b4f2-bf5a-4f94-9ec6-2d31b317dcfe",
        "deepnote_cell_type": "code",
        "output_cleared": false,
        "colab": {
          "base_uri": "https://localhost:8080/"
        },
        "id": "FZPYXWw-1CoF",
        "outputId": "561f4d40-128a-443d-bf42-3a10d26dec56"
      },
      "outputs": [
        {
          "output_type": "execute_result",
          "data": {
            "text/plain": [
              "2"
            ]
          },
          "metadata": {},
          "execution_count": 4
        }
      ],
      "source": [
        "from multiprocessing import cpu_count\n",
        "\n",
        "cpu_count()"
      ]
    },
    {
      "cell_type": "markdown",
      "metadata": {
        "cell_id": "00008-5e980cdb-7f76-4364-93a0-d4eb3f5a77a0",
        "deepnote_cell_type": "markdown",
        "id": "Zu-piK591CoG"
      },
      "source": [
        "## Futures\n",
        "\n",
        "`concurrent.futures` 모듈은 callable 객체를 비동기적(asynchronously)으로 실행할 수 있는 high-level interface이다\n",
        "\n",
        "비동기 실행(asynchronous execution)은 다음 개체와 함께 수행된다:\n",
        "- ThreadPoolExecutor을 사용하여 **threads**\n",
        "- ProcessPoolExecutor를 사용하여 **processes**를 분리(separate)\n",
        "위의 둘다 동일한 인터페이스를 구현하고, 이것은 추상화된 Executor 클래스에 정의된다.\n",
        "\n",
        "`concurrent.futures` 는 windows os 위에서는 **processes**를 시작할 수 없다. 따라서, window 사용자는 다음 라이브러리를 필수로 설치해야한다.\n",
        "[loky](https://github.com/tomMoral/loky)."
      ]
    },
    {
      "cell_type": "markdown",
      "source": [
        "`%%file`을 사용하여 파일을 생성할 수있다"
      ],
      "metadata": {
        "collapsed": false,
        "id": "HidcxNre1CoG"
      }
    },
    {
      "cell_type": "code",
      "execution_count": null,
      "metadata": {
        "cell_id": "00009-505b529f-4676-497f-8bfb-4c7725e792bf",
        "deepnote_cell_type": "code",
        "output_cleared": false,
        "colab": {
          "base_uri": "https://localhost:8080/"
        },
        "id": "oIPx5CpX1CoH",
        "outputId": "d721d7fb-1a90-47a8-83e0-43576b9e15b8"
      },
      "outputs": [
        {
          "output_type": "stream",
          "name": "stdout",
          "text": [
            "Writing pmap.py\n"
          ]
        }
      ],
      "source": [
        "%%file pmap.py\n",
        "from concurrent.futures import ProcessPoolExecutor\n",
        "from time import sleep, time\n",
        "\n",
        "def f(x):\n",
        "    sleep(1)\n",
        "    return x*x\n",
        "\n",
        "L = list(range(8))\n",
        "\n",
        "if __name__ == '__main__':\n",
        "    \n",
        "    begin = time()\n",
        "    with ProcessPoolExecutor() as pool:\n",
        "\n",
        "        result = sum(pool.map(f, L))\n",
        "    end = time()\n",
        "    \n",
        "    print(f\"result = {result} and time = {end-begin}\")"
      ]
    },
    {
      "cell_type": "code",
      "execution_count": null,
      "metadata": {
        "cell_id": "00010-3c871477-057b-4cfb-ae86-23eb18de441c",
        "deepnote_cell_type": "code",
        "output_cleared": false,
        "colab": {
          "base_uri": "https://localhost:8080/"
        },
        "id": "LLsAEZt61CoH",
        "outputId": "b51cbdfd-2d2c-4946-d319-32bc7747f3b5"
      },
      "outputs": [
        {
          "output_type": "stream",
          "name": "stdout",
          "text": [
            "result = 140 and time = 4.012647390365601\n"
          ]
        }
      ],
      "source": [
        "import sys\n",
        "!{sys.executable} pmap.py"
      ]
    },
    {
      "cell_type": "markdown",
      "metadata": {
        "cell_id": "00011-6fecf1c9-7929-4a3f-9b9f-7b28d5362c51",
        "deepnote_cell_type": "markdown",
        "id": "hqvRq2261CoI"
      },
      "source": [
        "세부적인 메소드의 역할은 다음과 같다.\n",
        "- `ProcessPoolExecutor` 컴퓨터 내 물리적인 core당 하나의 slave process를 시작및수행(launch)한다.\n",
        "- `pool.map` 입력 리스트를 여러개의 chunks로 나눈뒤에 queue에 (function + chunk)의 tasks을 넣는다.\n",
        "- 각 slave process는 (function + chunk) 작업을 취한 뒤에, map(function, chunk)을 수행하고, 그리고 results list에 결과를 넣는다.\n",
        "- master process 위의 `pool.map` 모든 tasks들이 완료 질때까지 기다리고, result lists의 종합한(concatenation) 결과를 반환한다."
      ]
    },
    {
      "cell_type": "code",
      "execution_count": null,
      "metadata": {
        "cell_id": "00012-f32013a2-fb56-4dee-afb9-67e551946174",
        "deepnote_cell_type": "code",
        "output_cleared": false,
        "colab": {
          "base_uri": "https://localhost:8080/"
        },
        "id": "UkiwlG3_1CoI",
        "outputId": "10687144-af34-443e-f8e8-caae88b3cd03"
      },
      "outputs": [
        {
          "output_type": "stream",
          "name": "stdout",
          "text": [
            "140\n",
            "CPU times: user 12.1 ms, sys: 2.82 ms, total: 15 ms\n",
            "Wall time: 2 s\n"
          ]
        }
      ],
      "source": [
        "%%time\n",
        "from concurrent.futures import ThreadPoolExecutor\n",
        "\n",
        "with ThreadPoolExecutor() as pool:\n",
        "\n",
        "    results = sum(pool.map(f, L))\n",
        "    \n",
        "print(results)"
      ]
    },
    {
      "cell_type": "markdown",
      "metadata": {
        "cell_id": "00013-87959184-c244-46a3-88b8-a0e692fe1c69",
        "deepnote_cell_type": "markdown",
        "id": "vbvEJ6to1CoJ"
      },
      "source": [
        "## Thread and Process: 차이점\n",
        "\n",
        "- A **process** is an instance of a running program. \n",
        "- **Process** may contain one or more **threads**, but a **thread** cannot contain a **process**.\n",
        "- **Process** has a self-contained execution environment. It has its own memory space. \n",
        "- Application running on your computer may be a set of cooperating **processes**.\n",
        "- **Process** don't share its memory, communication between **processes** implies data serialization.\n",
        "\n",
        "- A **thread** is made of and exist within a **process**; every **process** has at least one **thread**. \n",
        "- Multiple **threads** in a **process** share resources, which helps in efficient communication between **threads**.\n",
        "- **Threads** can be concurrent on a multi-core system, with every core executing the separate **threads** simultaneously."
      ]
    },
    {
      "cell_type": "markdown",
      "metadata": {
        "cell_id": "00014-95ae059f-0931-41f9-b605-0b4a4eb851b8",
        "deepnote_cell_type": "markdown",
        "id": "4tHLJFKB1CoJ"
      },
      "source": [
        "## The Global Interpreter Lock (GIL)\n",
        "\n",
        "- The Python interpreter is not thread safe.\n",
        "- A few critical internal data structures may only be accessed by one thread at a time. Access to them is protected by the GIL.\n",
        "- Attempts at removing the GIL from Python have failed until now. The main difficulty is maintaining the C API for extension modules.\n",
        "- Multiprocessing avoids the GIL by having separate processes which each have an independent copy of the interpreter data structures.\n",
        "- The price to pay: serialization of tasks, arguments, and results."
      ]
    },
    {
      "cell_type": "markdown",
      "metadata": {
        "cell_id": "00015-64fadb8a-08b6-4990-a4a0-1985c667112f",
        "deepnote_cell_type": "markdown",
        "id": "5yTEtRZi1CoK"
      },
      "source": [
        "## Parallelize text files downloads\n",
        "\n",
        "- Victor Hugo http://www.gutenberg.org/files/135/135-0.txt\n",
        "- Marcel Proust http://www.gutenberg.org/files/7178/7178-8.txt\n",
        "- Emile Zola http://www.gutenberg.org/files/1069/1069-0.txt\n",
        "- Stendhal http://www.gutenberg.org/files/44747/44747-0.txt\n"
      ]
    },
    {
      "cell_type": "code",
      "execution_count": null,
      "metadata": {
        "cell_id": "00016-19ac1c76-86b2-4b97-b359-86a0e4336f93",
        "deepnote_cell_type": "code",
        "output_cleared": false,
        "id": "AGaH39vY1CoK"
      },
      "outputs": [],
      "source": [
        "%mkdir books"
      ]
    },
    {
      "cell_type": "code",
      "execution_count": null,
      "metadata": {
        "cell_id": "00017-096986cc-9df8-4d72-b2ee-492eef8f2adb",
        "deepnote_cell_type": "code",
        "output_cleared": false,
        "colab": {
          "base_uri": "https://localhost:8080/"
        },
        "id": "U8nYfd-E1CoK",
        "outputId": "6d0ea2e0-1f53-4b89-e950-e8d5a882a23f"
      },
      "outputs": [
        {
          "output_type": "stream",
          "name": "stdout",
          "text": [
            "CPU times: user 41.5 ms, sys: 18.2 ms, total: 59.7 ms\n",
            "Wall time: 1.67 s\n"
          ]
        },
        {
          "output_type": "execute_result",
          "data": {
            "text/plain": [
              "('books/stendhal.txt', <http.client.HTTPMessage at 0x7f31ac0f23d0>)"
            ]
          },
          "metadata": {},
          "execution_count": 10
        }
      ],
      "source": [
        "%%time\n",
        "import urllib.request as url\n",
        "source = \"https://mmassd.github.io/\"  # \"http://svmass2.mass.uhb.fr/hub/static/datasets/\"\n",
        "url.urlretrieve(source+\"books/hugo.txt\",     filename=\"books/hugo.txt\")\n",
        "url.urlretrieve(source+\"books/proust.txt\",   filename=\"books/proust.txt\")\n",
        "url.urlretrieve(source+\"books/zola.txt\",     filename=\"books/zola.txt\")\n",
        "url.urlretrieve(source+\"books/stendhal.txt\", filename=\"books/stendhal.txt\")"
      ]
    },
    {
      "cell_type": "markdown",
      "source": [
        "### Exercise 4.1\n",
        "\n",
        "Use `ThreadPoolExecutor` to parallelize the code above."
      ],
      "metadata": {
        "collapsed": false,
        "id": "-bucsYv51CoL"
      }
    },
    {
      "cell_type": "markdown",
      "metadata": {
        "cell_id": "00018-f4da8eea-1eed-4b29-bf6b-92232fd88854",
        "deepnote_cell_type": "markdown",
        "id": "Va5mXxS01CoL"
      },
      "source": [
        "## Wordcount\n",
        "아래 함수(mapper, partitioner, reducer)는 single core에 수행되는 프로그램이다."
      ]
    },
    {
      "cell_type": "code",
      "execution_count": null,
      "metadata": {
        "cell_id": "00019-c43ef8bf-64f7-454f-a2c9-357271052a4c",
        "deepnote_cell_type": "code",
        "output_cleared": false,
        "id": "sKHOGF7R1CoL"
      },
      "outputs": [],
      "source": [
        "from glob import glob\n",
        "from collections import defaultdict\n",
        "from operator import itemgetter\n",
        "from itertools import chain\n",
        "from concurrent.futures import ThreadPoolExecutor\n",
        "\n",
        "def mapper(filename):\n",
        "    \" split text to list of key/value pairs (word,1)\"\n",
        "\n",
        "    with open(filename) as f:\n",
        "        data = f.read()\n",
        "        \n",
        "    data = data.strip().replace(\".\",\"\").lower().split()\n",
        "        \n",
        "    return sorted([(w,1) for w in data])\n",
        "\n",
        "def partitioner(mapped_values):\n",
        "    \"\"\" get lists from mapper and create a dict with\n",
        "    (word,[1,1,1])\"\"\"\n",
        "    \n",
        "    res = defaultdict(list)\n",
        "    for w, c in mapped_values:\n",
        "        res[w].append(c)\n",
        "        \n",
        "    return res.items()\n",
        "\n",
        "def reducer( item ):\n",
        "    \"\"\" Compute words occurences from dict computed\n",
        "    by partioner\n",
        "    \"\"\"\n",
        "    w, v = item\n",
        "    return (w,len(v))"
      ]
    },
    {
      "cell_type": "markdown",
      "metadata": {
        "cell_id": "00020-2c55a25b-a96c-438b-a9fe-020937d50fe6",
        "deepnote_cell_type": "markdown",
        "id": "MMzEe6FL1CoM"
      },
      "source": [
        "## Parallel map\n",
        "\n",
        "\n",
        "- 다음 `mapper` 함수를 현재 프로세스 이름을 함수 내 출력해보도록 하자."
      ]
    },
    {
      "cell_type": "code",
      "execution_count": null,
      "metadata": {
        "cell_id": "00021-d833e0fc-79f5-4824-99a1-cd9c5555f7bb",
        "deepnote_cell_type": "code",
        "output_cleared": false,
        "id": "8UEpPvbj1CoM"
      },
      "outputs": [],
      "source": [
        "import multiprocessing as mp\n",
        "from concurrent.futures import ProcessPoolExecutor\n",
        "\n",
        "def process_name(n):\n",
        "    \" prints out the current process name \"\n",
        "    print(f\"{mp.current_process().name} \")\n",
        "\n",
        "with ProcessPoolExecutor() as e:\n",
        "    _ = e.map(process_name, range(mp.cpu_count()))"
      ]
    },
    {
      "cell_type": "markdown",
      "metadata": {
        "cell_id": "00022-59f4de93-1fb3-433f-a677-1007c45e1aec",
        "deepnote_cell_type": "markdown",
        "id": "dYT36qRs1CoM"
      },
      "source": [
        "### Exercise 4.2\n",
        "\n",
        "- `mapper` 함수에 위의 `print`를 추가하여 mapper 함수를 향상시키도록 하자."
      ]
    },
    {
      "cell_type": "markdown",
      "metadata": {
        "cell_id": "00023-1aebda59-d029-40fb-a150-06dcb483e6db",
        "deepnote_cell_type": "markdown",
        "id": "gohM1cV51CoN"
      },
      "source": [
        "## Parallel reduce\n",
        "\n",
        "- 병렬 reduce 연산을 위해, 데이터는 컨테이너 내 정렬되어 있어야만 한다. 예로 key 값 등으로 정렬되어 있다. `partitioner` function는 컨테이너를 반환한다."
      ]
    },
    {
      "cell_type": "markdown",
      "source": [
        "### Exercise 4.3\n",
        "\n",
        "`ThreadPoolExecutor`를 사용하여 three functions을 향상한 parallel 프로그램을 작성하시오. 프로그램은 모든 \"books\\*.txt\"을 읽어 병렬적으로 map과 reduce를 수행한다."
      ],
      "metadata": {
        "collapsed": false,
        "id": "tcWLefYZ1CoN"
      }
    },
    {
      "cell_type": "markdown",
      "metadata": {
        "cell_id": "00024-06200911-29cc-4063-8d10-c727062ab306",
        "deepnote_cell_type": "markdown",
        "id": "hVUoI8yw1CoN"
      },
      "source": [
        "## Crawling Webpage at parallel\n",
        "\n",
        "우리는 열거된 특정 정보(예로, 쇼핑 아이템, 책)을 하나 이상의 사이트로부터 지속적으로 데이터 수집하길 원한다. 이를 위해, `BeautifulSoup` 과 같은 라이브러리를 자주 사용하지만, 기본적으로 built-in parallel 처리를 지원하지 않는다. 우리는 기존의 webpage crawling을 병렬처리하도록 개선해보고자 한다.\n",
        "\n",
        "- 주의: 종종 일반 PC에서는 proxy 로 인해 정상적인 동작이 되지 않을 수 있습니다.\n"
      ]
    },
    {
      "cell_type": "markdown",
      "source": [
        "### 1. Getting the data\n",
        "\n",
        "- [The Latin Library](http://www.thelatinlibrary.com/) 는 무료로 접근 가능한 Latin text의 대규모 데이터를 가지고 있다."
      ],
      "metadata": {
        "collapsed": false,
        "id": "1P7KHNme1CoO"
      }
    },
    {
      "cell_type": "code",
      "execution_count": null,
      "metadata": {
        "cell_id": "00025-4367b6fe-d051-4238-9823-3efb71e12d0a",
        "deepnote_cell_type": "code",
        "output_cleared": false,
        "id": "v2OpYEvL1CoO"
      },
      "outputs": [],
      "source": [
        "from bs4 import BeautifulSoup  # web scraping library\n",
        "from urllib.request import *\n",
        "\n",
        "base_url = \"http://www.thelatinlibrary.com/\"\n",
        "home_content = urlopen(base_url)\n",
        "\n",
        "soup = BeautifulSoup(home_content, \"lxml\")\n",
        "author_page_links = soup.find_all(\"a\")\n",
        "author_pages = [ap[\"href\"] for i, ap in enumerate(author_page_links) if i < 49]"
      ]
    },
    {
      "cell_type": "code",
      "execution_count": null,
      "outputs": [],
      "source": [
        "author_pages[:5]"
      ],
      "metadata": {
        "id": "AnrzhRDH1CoO"
      }
    },
    {
      "cell_type": "markdown",
      "metadata": {
        "cell_id": "00026-6ea15c82-b5bb-49a1-944f-ce8573767097",
        "deepnote_cell_type": "markdown",
        "id": "DDmjdb2K1CoP"
      },
      "source": [
        "### 2. Generate html links\n",
        "\n",
        "- Latin texts를 가리키는 모든 links의 리스트를 생성한다. 여기서 Latin Library는 구조화된 포맷과 함께 링크를 구성하었기 때문에 저자 이름을 통해 링크를 탐지한다."
      ]
    },
    {
      "cell_type": "code",
      "execution_count": null,
      "metadata": {
        "cell_id": "00027-3a19e953-c48a-4ebc-9ca8-a258aa31a7fa",
        "deepnote_cell_type": "code",
        "output_cleared": false,
        "id": "lR25dC1L1CoP"
      },
      "outputs": [],
      "source": [
        "ap_content = list()\n",
        "for ap in author_pages:\n",
        "    ap_content.append(urlopen(base_url + ap))\n",
        "\n",
        "book_links = list()\n",
        "for path, content in zip(author_pages, ap_content):\n",
        "    author_name = path.split(\".\")[0]\n",
        "    ap_soup = BeautifulSoup(content, \"lxml\")\n",
        "    book_links += ([link for link in ap_soup.find_all(\"a\", {\"href\": True}) if author_name in link[\"href\"]])"
      ]
    },
    {
      "cell_type": "code",
      "execution_count": null,
      "outputs": [],
      "source": [
        "book_links[:5]"
      ],
      "metadata": {
        "id": "vPtiqaS11CoP"
      }
    },
    {
      "cell_type": "markdown",
      "metadata": {
        "cell_id": "00028-330d319f-3e3d-4ac9-9cb0-8d3ff958ace5",
        "deepnote_cell_type": "markdown",
        "id": "pzr9rfGl1CoQ"
      },
      "source": [
        "### 3. Download webpages content\n",
        "\n",
        "일부(100개)를 가져와서 `book-{03d}.dat` 파일이름 형식으로 데이터로 저장한다."
      ]
    },
    {
      "cell_type": "code",
      "execution_count": null,
      "metadata": {
        "cell_id": "00029-e26f5cf7-acbc-4e58-b6ea-13a0664906e2",
        "deepnote_cell_type": "code",
        "output_cleared": false,
        "id": "6dhnBEBk1CoQ"
      },
      "outputs": [],
      "source": [
        "from urllib.error import HTTPError\n",
        "\n",
        "num_pages = 100\n",
        "\n",
        "for i, bl in enumerate(book_links[:num_pages]):\n",
        "    print(\"Getting content \" + str(i + 1) + \" of \" + str(num_pages), end=\"\\r\", flush=True)\n",
        "    try:\n",
        "        content = urlopen(base_url + bl[\"href\"]).read()\n",
        "        with open(f\"book-{i:03d}.dat\",\"wb\") as f:\n",
        "            f.write(content)\n",
        "    except HTTPError as err:\n",
        "        print(\"Unable to retrieve \" + bl[\"href\"] + \".\")\n",
        "        continue"
      ]
    },
    {
      "cell_type": "markdown",
      "metadata": {
        "cell_id": "00032-d2a0a6f9-5c76-4e39-b689-9579cd495814",
        "deepnote_cell_type": "markdown",
        "id": "woYrCVCV1CoQ"
      },
      "source": [
        "### 4. Read data files\n",
        "\n",
        "glob를 사용하여 특정 파일이름 패턴을 가진 파일을 명시한다. 그리고 각 파일을 읽어서 데이터를 text에 모두 붙인다."
      ]
    },
    {
      "cell_type": "code",
      "execution_count": null,
      "metadata": {
        "cell_id": "00033-ce4fe5c1-3406-4c35-a0a1-c9ef8a6635ce",
        "deepnote_cell_type": "code",
        "output_cleared": false,
        "id": "-7r4dRwe1CoQ"
      },
      "outputs": [],
      "source": [
        "from glob import glob\n",
        "files = glob('book*.dat')\n",
        "texts = list()\n",
        "for file in files:\n",
        "    with open(file,'rb') as f:\n",
        "        text = f.read()\n",
        "    texts.append(text)"
      ]
    },
    {
      "cell_type": "markdown",
      "metadata": {
        "cell_id": "00034-a29ffee5-4cbe-43b9-9a4e-a80e115568cc",
        "deepnote_cell_type": "markdown",
        "id": "qFBVLQqr1CoR"
      },
      "source": [
        "### 5. Extract the text from html and split the text at periods to convert it into sentences.\n",
        "\n",
        "html로부터 text를 추출해내고,마침표를 사용하여 문장(sentences) 단위로 해당 정보를 분할합니다."
      ]
    },
    {
      "cell_type": "code",
      "execution_count": null,
      "metadata": {
        "cell_id": "00035-7b691054-629b-45d7-bca3-8c19e7c5f032",
        "deepnote_cell_type": "code",
        "output_cleared": false,
        "id": "7S_zFylN1CoR"
      },
      "outputs": [],
      "source": [
        "%%time\n",
        "from bs4 import BeautifulSoup\n",
        "\n",
        "sentences = list()\n",
        "\n",
        "for i, text in enumerate(texts):\n",
        "    print(\"Document \" + str(i + 1) + \" of \" + str(len(texts)), end=\"\\r\", flush=True)\n",
        "    textSoup = BeautifulSoup(text, \"lxml\")\n",
        "    paragraphs = textSoup.find_all(\"p\", attrs={\"class\":None})\n",
        "    prepared = (\"\".join([p.text.strip().lower() for p in paragraphs[1:-1]]))\n",
        "    for t in prepared.split(\".\"):\n",
        "        part = \"\".join([c for c in t if c.isalpha() or c.isspace()])\n",
        "        sentences.append(part.strip())\n",
        "\n",
        "# print first and last sentence to check the results\n",
        "print(sentences[0])\n",
        "print(sentences[-1])"
      ]
    },
    {
      "cell_type": "markdown",
      "metadata": {
        "cell_id": "00036-b509b30f-5b5b-4b6f-ba41-907716bedca6",
        "deepnote_cell_type": "markdown",
        "id": "dK4Ninud1CoS"
      },
      "source": [
        "### Exercise 4.4\n",
        "\n",
        "`concurrent.futures`를 사용하여 마지막 함수를 병렬 처리가 가능하도록 재작성하시오"
      ]
    },
    {
      "cell_type": "markdown",
      "source": [
        "### Exercise 4.5\n",
        "언급한 함수들 중에 병렬처리 (map /reduce) 가 가능한 부분이 있다면, 자유롭게  `concurrent.futures`를 사용하여 병렬처리가 가능하도록 재작성하시오."
      ],
      "metadata": {
        "collapsed": false,
        "id": "WT-tk3AN1CoS"
      }
    },
    {
      "cell_type": "markdown",
      "metadata": {
        "cell_id": "00037-244fbb8c-dcc3-4707-b2b0-f3d1435b64f8",
        "deepnote_cell_type": "markdown",
        "id": "P0Y0c1uC1CoS"
      },
      "source": [
        "## References\n",
        "\n",
        "- [Using Conditional Random Fields and Python for Latin word segmentation](https://medium.com/@felixmohr/using-python-and-conditional-random-fields-for-latin-word-segmentation-416ca7a9e513)"
      ]
    }
  ],
  "metadata": {
    "deepnote_execution_queue": [],
    "deepnote_notebook_id": "790e741a-4d03-4745-8621-05272c2d3eb7",
    "kernelspec": {
      "display_name": "big-data",
      "language": "python",
      "name": "big-data"
    },
    "colab": {
      "provenance": [],
      "include_colab_link": true
    }
  },
  "nbformat": 4,
  "nbformat_minor": 0
}