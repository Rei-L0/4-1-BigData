{
  "cells": [
    {
      "cell_type": "markdown",
      "metadata": {
        "id": "view-in-github",
        "colab_type": "text"
      },
      "source": [
        "<a href=\"https://colab.research.google.com/github/Rei-L0/4-1-BigData/blob/main/01_WordCount.ipynb\" target=\"_parent\"><img src=\"https://colab.research.google.com/assets/colab-badge.svg\" alt=\"Open In Colab\"/></a>"
      ]
    },
    {
      "cell_type": "markdown",
      "metadata": {
        "cell_id": "00000-0d0083c2-3828-466d-a7ed-19a3c32a8525",
        "deepnote_cell_type": "markdown",
        "output_cleared": false,
        "id": "uejgZoGFGGTF"
      },
      "source": [
        "# Wordcount\n",
        "\n",
        "- [Wikipedia](https://en.wikipedia.org/wiki/Word_count)\n",
        "\n",
        "- Word count 예제는 텍스트 파일을 읽어서 발생한 단어의 갯수를 세는 것임.\n",
        "- Word count 는 일반적으로 번역기translators)에 의해 사용되고, 번역작업에 대한 비용을 결정한다.\n",
        "- 빅데이터 프로그래밍에서 'Hello world' 프로그램 개발과 동일하다"
      ]
    },
    {
      "cell_type": "markdown",
      "metadata": {
        "cell_id": "00001-b3ebd2da-87de-415b-bd17-f3afa5ef2f8a",
        "deepnote_cell_type": "markdown",
        "output_cleared": false,
        "id": "QBW3-Yp8GGTJ"
      },
      "source": [
        "가이드라인:\n",
        "- *구글링, ChatGPT 사용은 최소화, 교수자 혹은 보조연구원에게 물어보도록 할것, 또는 python help function을 사용해 볼것*\n",
        "- *우선 대략적으로 주석이나 간단한 pseudo-code를 시도하고 그다음에 최적화된 코드를 생각하시오.*\n",
        "- *다른 학생으로부터 코드를 절대 받지 말기 바랍니다*\n",
        "- *Exercise의 답은 별도로 제공되지 않습니다. 대신에, 학생은 게시판에 답안을 먼저 공유하면 가산점을 받을 수 있습니다.*"
      ]
    },
    {
      "cell_type": "markdown",
      "metadata": {
        "cell_id": "00002-c2c04a7c-0fe5-46e3-9f87-5d2018c55e51",
        "deepnote_cell_type": "markdown",
        "output_cleared": false,
        "id": "wyDshDI8GGTK"
      },
      "source": [
        "## Create sample text file"
      ]
    },
    {
      "cell_type": "code",
      "source": [
        "pip install lorem"
      ],
      "metadata": {
        "colab": {
          "base_uri": "https://localhost:8080/"
        },
        "id": "pLsOnjgpGMqk",
        "outputId": "a68f3927-79d5-4436-a952-abd2462672c0"
      },
      "execution_count": 3,
      "outputs": [
        {
          "output_type": "stream",
          "name": "stdout",
          "text": [
            "Looking in indexes: https://pypi.org/simple, https://us-python.pkg.dev/colab-wheels/public/simple/\n",
            "Collecting lorem\n",
            "  Downloading lorem-0.1.1-py3-none-any.whl (5.0 kB)\n",
            "Installing collected packages: lorem\n",
            "Successfully installed lorem-0.1.1\n"
          ]
        }
      ]
    },
    {
      "cell_type": "code",
      "execution_count": 5,
      "metadata": {
        "cell_id": "00003-4d7f6c1d-8859-4403-bb81-8a0e8a776db0",
        "deepnote_cell_type": "code",
        "execution_millis": 3632,
        "execution_start": 1604475114385,
        "output_cleared": false,
        "source_hash": "f3007ae0",
        "trusted": false,
        "id": "Z0QoB2FhGGTL"
      },
      "outputs": [],
      "source": [
        "from lorem import text\n",
        "\n",
        "with open(\"sample.txt\", \"w\") as f:\n",
        "    for i in range(2):\n",
        "        f.write(text())"
      ]
    },
    {
      "cell_type": "markdown",
      "metadata": {
        "cell_id": "00004-34f6cd5f-e68d-4be4-a815-96c9dae02818",
        "deepnote_cell_type": "markdown",
        "output_cleared": false,
        "id": "z4ufAtnWGGTM"
      },
      "source": [
        "### Exercise 1.1\n",
        "sample.txt 파일 내의 고유한 단어(word)의 갯수와 문자의 갯수를 세는 프로그램을 계산하시오"
      ]
    },
    {
      "cell_type": "code",
      "execution_count": 6,
      "metadata": {
        "cell_id": "00005-99c44bbd-d3cc-4e16-99f5-569b359b007e",
        "deepnote_cell_type": "code",
        "execution_millis": 121,
        "execution_start": 1604475118049,
        "output_cleared": false,
        "source_hash": "fc5d8416",
        "trusted": false,
        "colab": {
          "base_uri": "https://localhost:8080/"
        },
        "id": "6UZfIQ0JGGTN",
        "outputId": "d49b97fe-cf79-429a-967a-9daebc80d1ae"
      },
      "outputs": [
        {
          "output_type": "stream",
          "name": "stdout",
          "text": [
            "  14  389 2765 sample.txt\n",
            "4.0K\tsample.txt\n"
          ]
        }
      ],
      "source": [
        "%%bash\n",
        "wc sample.txt\n",
        "du -h sample.txt"
      ]
    },
    {
      "cell_type": "markdown",
      "metadata": {
        "cell_id": "00006-60f1ba48-2f04-41f2-841c-51f1ed54a11d",
        "deepnote_cell_type": "markdown",
        "output_cleared": false,
        "id": "bDYAUsulGGTO"
      },
      "source": [
        "### Exercise 1.2\n",
        "\n",
        "map_words의 이름을 가진 함수를 생성하시오. 해당 함수는 파일이름(filename)을 입력으로 받아 모든 단어를 반환한다.\n",
        "\n",
        "```pytb\n",
        "map_words(\"sample.txt\")[:5] # first five words\n",
        "['adipisci', 'adipisci', 'adipisci', 'adipisci', 'adipisci']\n",
        "```"
      ]
    },
    {
      "cell_type": "code",
      "source": [
        "def map_words(filename):\n",
        "\n",
        "  f=open(filename,'r')\n",
        "  words=f.read().split()\n",
        "\n",
        "  return words\n",
        "\n",
        "map_words('sample.txt')"
      ],
      "metadata": {
        "colab": {
          "base_uri": "https://localhost:8080/"
        },
        "id": "48iq4Z36GYY5",
        "outputId": "26732c56-a845-4b90-912c-842826ca579d"
      },
      "execution_count": 7,
      "outputs": [
        {
          "output_type": "execute_result",
          "data": {
            "text/plain": [
              "['Etincidunt',\n",
              " 'porro',\n",
              " 'etincidunt',\n",
              " 'consectetur',\n",
              " 'labore',\n",
              " 'velit',\n",
              " 'dolor',\n",
              " 'ut.',\n",
              " 'Modi',\n",
              " 'est',\n",
              " 'consectetur',\n",
              " 'quisquam',\n",
              " 'ut',\n",
              " 'sed.',\n",
              " 'Eius',\n",
              " 'sit',\n",
              " 'numquam',\n",
              " 'dolor',\n",
              " 'quisquam.',\n",
              " 'Numquam',\n",
              " 'quaerat',\n",
              " 'non',\n",
              " 'numquam',\n",
              " 'porro',\n",
              " 'quiquia',\n",
              " 'ipsum',\n",
              " 'non.',\n",
              " 'Ipsum',\n",
              " 'dolore',\n",
              " 'est',\n",
              " 'adipisci',\n",
              " 'numquam',\n",
              " 'quisquam',\n",
              " 'ipsum',\n",
              " 'voluptatem.',\n",
              " 'Est',\n",
              " 'dolorem',\n",
              " 'quaerat',\n",
              " 'porro.',\n",
              " 'Dolore',\n",
              " 'voluptatem',\n",
              " 'dolore',\n",
              " 'dolore',\n",
              " 'adipisci',\n",
              " 'eius',\n",
              " 'dolorem.',\n",
              " 'Modi',\n",
              " 'modi',\n",
              " 'non',\n",
              " 'velit',\n",
              " 'velit',\n",
              " 'aliquam',\n",
              " 'dolore',\n",
              " 'dolorem.',\n",
              " 'Velit',\n",
              " 'tempora',\n",
              " 'numquam',\n",
              " 'labore',\n",
              " 'eius.',\n",
              " 'Dolorem',\n",
              " 'est',\n",
              " 'sed',\n",
              " 'sit',\n",
              " 'quaerat.',\n",
              " 'Etincidunt',\n",
              " 'dolorem',\n",
              " 'quaerat',\n",
              " 'etincidunt',\n",
              " 'quaerat',\n",
              " 'quiquia.',\n",
              " 'Non',\n",
              " 'neque',\n",
              " 'ipsum',\n",
              " 'dolorem',\n",
              " 'neque',\n",
              " 'velit',\n",
              " 'sit.',\n",
              " 'Adipisci',\n",
              " 'labore',\n",
              " 'quaerat',\n",
              " 'tempora',\n",
              " 'adipisci',\n",
              " 'porro.',\n",
              " 'Consectetur',\n",
              " 'neque',\n",
              " 'sed',\n",
              " 'dolor',\n",
              " 'quaerat',\n",
              " 'numquam.',\n",
              " 'Quisquam',\n",
              " 'porro',\n",
              " 'voluptatem',\n",
              " 'ipsum.',\n",
              " 'Porro',\n",
              " 'porro',\n",
              " 'etincidunt',\n",
              " 'porro',\n",
              " 'sed',\n",
              " 'porro.',\n",
              " 'Consectetur',\n",
              " 'ut',\n",
              " 'dolore',\n",
              " 'numquam',\n",
              " 'sed',\n",
              " 'labore',\n",
              " 'sed.',\n",
              " 'Etincidunt',\n",
              " 'magnam',\n",
              " 'dolor',\n",
              " 'eius',\n",
              " 'est',\n",
              " 'est',\n",
              " 'numquam.',\n",
              " 'Amet',\n",
              " 'sit',\n",
              " 'etincidunt',\n",
              " 'eius',\n",
              " 'tempora',\n",
              " 'non',\n",
              " 'sed',\n",
              " 'est.',\n",
              " 'Sed',\n",
              " 'aliquam',\n",
              " 'eius',\n",
              " 'voluptatem',\n",
              " 'quiquia',\n",
              " 'non.',\n",
              " 'Ipsum',\n",
              " 'dolorem',\n",
              " 'labore',\n",
              " 'amet',\n",
              " 'dolorem',\n",
              " 'non.',\n",
              " 'Aliquam',\n",
              " 'voluptatem',\n",
              " 'quisquam',\n",
              " 'adipisci',\n",
              " 'quaerat.Etincidunt',\n",
              " 'magnam',\n",
              " 'voluptatem',\n",
              " 'numquam',\n",
              " 'eius',\n",
              " 'eius.',\n",
              " 'Porro',\n",
              " 'quisquam',\n",
              " 'dolorem',\n",
              " 'eius',\n",
              " 'labore',\n",
              " 'sed.',\n",
              " 'Sit',\n",
              " 'aliquam',\n",
              " 'adipisci',\n",
              " 'voluptatem',\n",
              " 'dolor',\n",
              " 'velit',\n",
              " 'quaerat',\n",
              " 'etincidunt.',\n",
              " 'Magnam',\n",
              " 'est',\n",
              " 'quaerat',\n",
              " 'sit',\n",
              " 'quisquam',\n",
              " 'magnam',\n",
              " 'amet.',\n",
              " 'Dolor',\n",
              " 'aliquam',\n",
              " 'modi',\n",
              " 'labore.',\n",
              " 'Modi',\n",
              " 'dolorem',\n",
              " 'neque',\n",
              " 'amet',\n",
              " 'dolore.',\n",
              " 'Velit',\n",
              " 'quisquam',\n",
              " 'quisquam',\n",
              " 'ipsum',\n",
              " 'quisquam',\n",
              " 'quisquam.',\n",
              " 'Labore',\n",
              " 'voluptatem',\n",
              " 'ipsum',\n",
              " 'non',\n",
              " 'eius.',\n",
              " 'Dolor',\n",
              " 'voluptatem',\n",
              " 'quiquia',\n",
              " 'amet',\n",
              " 'eius',\n",
              " 'amet',\n",
              " 'tempora',\n",
              " 'ut.',\n",
              " 'Velit',\n",
              " 'labore',\n",
              " 'eius',\n",
              " 'neque.',\n",
              " 'Est',\n",
              " 'voluptatem',\n",
              " 'ut',\n",
              " 'dolor',\n",
              " 'etincidunt',\n",
              " 'tempora',\n",
              " 'velit',\n",
              " 'velit.',\n",
              " 'Quisquam',\n",
              " 'dolor',\n",
              " 'dolorem',\n",
              " 'aliquam',\n",
              " 'etincidunt.',\n",
              " 'Ipsum',\n",
              " 'aliquam',\n",
              " 'etincidunt',\n",
              " 'quiquia.',\n",
              " 'Velit',\n",
              " 'velit',\n",
              " 'labore',\n",
              " 'eius',\n",
              " 'porro',\n",
              " 'numquam',\n",
              " 'ut.',\n",
              " 'Quaerat',\n",
              " 'sed',\n",
              " 'non',\n",
              " 'labore',\n",
              " 'numquam',\n",
              " 'amet.',\n",
              " 'Voluptatem',\n",
              " 'ut',\n",
              " 'amet',\n",
              " 'non',\n",
              " 'modi',\n",
              " 'modi',\n",
              " 'velit',\n",
              " 'quisquam.',\n",
              " 'Modi',\n",
              " 'ut',\n",
              " 'porro',\n",
              " 'neque',\n",
              " 'labore',\n",
              " 'dolor',\n",
              " 'ut.',\n",
              " 'Velit',\n",
              " 'consectetur',\n",
              " 'quaerat',\n",
              " 'labore.',\n",
              " 'Amet',\n",
              " 'dolor',\n",
              " 'velit',\n",
              " 'consectetur',\n",
              " 'sed',\n",
              " 'numquam',\n",
              " 'sed.',\n",
              " 'Modi',\n",
              " 'dolorem',\n",
              " 'labore',\n",
              " 'quisquam',\n",
              " 'dolore.',\n",
              " 'Labore',\n",
              " 'modi',\n",
              " 'ipsum',\n",
              " 'adipisci',\n",
              " 'neque.',\n",
              " 'Porro',\n",
              " 'dolorem',\n",
              " 'dolorem',\n",
              " 'quiquia',\n",
              " 'sed',\n",
              " 'labore.',\n",
              " 'Quisquam',\n",
              " 'consectetur',\n",
              " 'voluptatem',\n",
              " 'ipsum',\n",
              " 'tempora',\n",
              " 'ut.',\n",
              " 'Magnam',\n",
              " 'voluptatem',\n",
              " 'velit',\n",
              " 'eius',\n",
              " 'amet',\n",
              " 'modi',\n",
              " 'tempora.',\n",
              " 'Porro',\n",
              " 'modi',\n",
              " 'consectetur',\n",
              " 'eius.',\n",
              " 'Adipisci',\n",
              " 'modi',\n",
              " 'non',\n",
              " 'eius',\n",
              " 'quaerat',\n",
              " 'voluptatem',\n",
              " 'aliquam.',\n",
              " 'Ipsum',\n",
              " 'est',\n",
              " 'amet',\n",
              " 'adipisci',\n",
              " 'numquam',\n",
              " 'magnam',\n",
              " 'dolor',\n",
              " 'numquam.',\n",
              " 'Eius',\n",
              " 'non',\n",
              " 'labore',\n",
              " 'magnam',\n",
              " 'ut.',\n",
              " 'Dolore',\n",
              " 'dolorem',\n",
              " 'ut',\n",
              " 'porro',\n",
              " 'eius.',\n",
              " 'Magnam',\n",
              " 'est',\n",
              " 'amet',\n",
              " 'numquam',\n",
              " 'dolor',\n",
              " 'quaerat.',\n",
              " 'Est',\n",
              " 'tempora',\n",
              " 'eius',\n",
              " 'est.',\n",
              " 'Dolore',\n",
              " 'neque',\n",
              " 'dolor',\n",
              " 'adipisci',\n",
              " 'aliquam',\n",
              " 'etincidunt',\n",
              " 'consectetur',\n",
              " 'numquam.',\n",
              " 'Quiquia',\n",
              " 'tempora',\n",
              " 'quiquia',\n",
              " 'modi.',\n",
              " 'Dolore',\n",
              " 'ipsum',\n",
              " 'sit',\n",
              " 'aliquam',\n",
              " 'adipisci.',\n",
              " 'Consectetur',\n",
              " 'magnam',\n",
              " 'dolorem',\n",
              " 'labore.',\n",
              " 'Consectetur',\n",
              " 'dolorem',\n",
              " 'quisquam',\n",
              " 'sit',\n",
              " 'ipsum',\n",
              " 'aliquam.',\n",
              " 'Ipsum',\n",
              " 'eius',\n",
              " 'eius',\n",
              " 'dolorem',\n",
              " 'consectetur',\n",
              " 'dolor',\n",
              " 'est',\n",
              " 'ipsum.',\n",
              " 'Ipsum',\n",
              " 'tempora',\n",
              " 'sit',\n",
              " 'numquam',\n",
              " 'numquam',\n",
              " 'est',\n",
              " 'tempora',\n",
              " 'dolor.',\n",
              " 'Voluptatem',\n",
              " 'magnam',\n",
              " 'adipisci',\n",
              " 'modi',\n",
              " 'quiquia',\n",
              " 'dolore',\n",
              " 'dolore',\n",
              " 'quiquia.',\n",
              " 'Dolor',\n",
              " 'consectetur',\n",
              " 'voluptatem',\n",
              " 'modi',\n",
              " 'est.',\n",
              " 'Quaerat',\n",
              " 'etincidunt',\n",
              " 'dolore',\n",
              " 'dolore',\n",
              " 'labore',\n",
              " 'labore',\n",
              " 'numquam',\n",
              " 'sit.',\n",
              " 'Quiquia',\n",
              " 'consectetur',\n",
              " 'etincidunt',\n",
              " 'ipsum',\n",
              " 'voluptatem.']"
            ]
          },
          "metadata": {},
          "execution_count": 7
        }
      ]
    },
    {
      "cell_type": "markdown",
      "metadata": {
        "cell_id": "00007-a0af7428-7dd2-41fe-8e5f-82e8d6ed1460",
        "deepnote_cell_type": "markdown",
        "output_cleared": false,
        "id": "boK_77x9GGTP"
      },
      "source": [
        "## Sorting a dictionary by value\n",
        "\n",
        "기본적으로, `dict`에  `sorted` 함수를 사용할 때, key 값을 기반으로 정렬을 시킨다.\n",
        "값(value)으로 정렬시키기 위해서, 우리는 [operator](https://docs.python.org/3.6/library/operator.html).itemgetter(1) 를 사용한다.\n",
        "이것은 callable object를 반환하며, 해당 object는 `__getitem__(` 메소드를 사용하여 해당 피연산자로부터 아이템을 획득할 수 있다. 따라서 결과를 정렬하는데 주로 사용된다."
      ]
    },
    {
      "cell_type": "code",
      "execution_count": 16,
      "metadata": {
        "cell_id": "00008-dddf6414-17e3-48c7-add8-76814d07d5c0",
        "deepnote_cell_type": "code",
        "execution_millis": 8,
        "execution_start": 1604475118172,
        "output_cleared": false,
        "source_hash": "d61b0611",
        "trusted": false,
        "id": "S6dgYVqNGGTP",
        "colab": {
          "base_uri": "https://localhost:8080/"
        },
        "outputId": "c6d9574d-c4c6-4954-c1dc-203f7bab42b7"
      },
      "outputs": [
        {
          "output_type": "execute_result",
          "data": {
            "text/plain": [
              "{'orange': 1, 'banana': 2, 'apple': 3, 'pear': 5}"
            ]
          },
          "metadata": {},
          "execution_count": 16
        }
      ],
      "source": [
        "import operator\n",
        "fruits = [('apple', 3), ('banana', 2), ('pear', 5), ('orange', 1)] # ('word', 'count_on_word')\n",
        "getcount = operator.itemgetter(1)\n",
        "dict(sorted(fruits, key=getcount))"
      ]
    },
    {
      "cell_type": "markdown",
      "metadata": {
        "cell_id": "00009-62b84cdf-2b5b-42a7-a380-57638ff69fe6",
        "deepnote_cell_type": "markdown",
        "output_cleared": false,
        "id": "tsp82_RTGGTQ"
      },
      "source": [
        "`sorted` 함수는 `reverse` 옵션을 가지고 있다."
      ]
    },
    {
      "cell_type": "code",
      "execution_count": 17,
      "metadata": {
        "cell_id": "00010-3fde7150-3008-468b-a98a-4232b516024d",
        "deepnote_cell_type": "code",
        "execution_millis": 8,
        "execution_start": 1604475118186,
        "output_cleared": false,
        "source_hash": "d7444908",
        "trusted": false,
        "id": "UYV8XDxpGGTR",
        "colab": {
          "base_uri": "https://localhost:8080/"
        },
        "outputId": "a7455c0a-2d2e-46be-b571-293355fe622b"
      },
      "outputs": [
        {
          "output_type": "execute_result",
          "data": {
            "text/plain": [
              "{'pear': 5, 'apple': 3, 'banana': 2, 'orange': 1}"
            ]
          },
          "metadata": {},
          "execution_count": 17
        }
      ],
      "source": [
        "dict(sorted(fruits, key=getcount, reverse=True))"
      ]
    },
    {
      "cell_type": "markdown",
      "metadata": {
        "cell_id": "00011-271a1865-7be3-462c-b8ea-5307fe59d801",
        "deepnote_cell_type": "markdown",
        "output_cleared": false,
        "id": "s0bd3u6CGGTR"
      },
      "source": [
        "### Exercise 1.3\n",
        "\n",
        "`reduce` 함수를 생성하시오. 해당 함수는 `map_words`에 의해 반환되는 단어(words)의 리스트를 reduce 시키고 모든 단어를 포함하는 dictionary를 반환한다. dictionary는 '단어': '발생 수\"로 구성된다.\n",
        "Create a function `reduce` to reduce the list of words returned by `map_words` and return a dictionary containing all words as keys and number of occurrences as values.\n",
        "\n",
        "```python\n",
        "reduce('sample.txt')\n",
        "{'tempora': 2, 'non': 1, 'quisquam': 1, 'amet': 1, 'sit': 1}\n",
        "```"
      ]
    },
    {
      "cell_type": "code",
      "source": [
        "def reduce(filename):\n",
        "  f=open(filename,'r')\n",
        "  words=f.read().split()\n",
        "  word_dict=dict()\n",
        "  for i in range(len(words)):\n",
        "    if words[i] not in word_dict:\n",
        "      word_dict[words[i]]=1\n",
        "    else:\n",
        "      word_dict[words[i]]+=1\n",
        "  return word_dict\n",
        "\n",
        "reduce('sample.txt')\n"
      ],
      "metadata": {
        "colab": {
          "base_uri": "https://localhost:8080/"
        },
        "id": "ZrcStIfCmlND",
        "outputId": "583b9572-5e17-4ed8-f6e1-991b0173c3fa"
      },
      "execution_count": 23,
      "outputs": [
        {
          "output_type": "execute_result",
          "data": {
            "text/plain": [
              "{'Etincidunt': 3,\n",
              " 'porro': 8,\n",
              " 'etincidunt': 9,\n",
              " 'consectetur': 10,\n",
              " 'labore': 14,\n",
              " 'velit': 10,\n",
              " 'dolor': 13,\n",
              " 'ut.': 6,\n",
              " 'Modi': 5,\n",
              " 'est': 10,\n",
              " 'quisquam': 10,\n",
              " 'ut': 6,\n",
              " 'sed.': 4,\n",
              " 'Eius': 2,\n",
              " 'sit': 7,\n",
              " 'numquam': 14,\n",
              " 'quisquam.': 3,\n",
              " 'Numquam': 1,\n",
              " 'quaerat': 10,\n",
              " 'non': 8,\n",
              " 'quiquia': 6,\n",
              " 'ipsum': 10,\n",
              " 'non.': 3,\n",
              " 'Ipsum': 6,\n",
              " 'dolore': 9,\n",
              " 'adipisci': 9,\n",
              " 'voluptatem.': 2,\n",
              " 'Est': 3,\n",
              " 'dolorem': 15,\n",
              " 'porro.': 3,\n",
              " 'Dolore': 4,\n",
              " 'voluptatem': 13,\n",
              " 'eius': 14,\n",
              " 'dolorem.': 2,\n",
              " 'modi': 10,\n",
              " 'aliquam': 8,\n",
              " 'Velit': 5,\n",
              " 'tempora': 10,\n",
              " 'eius.': 5,\n",
              " 'Dolorem': 1,\n",
              " 'sed': 8,\n",
              " 'quaerat.': 2,\n",
              " 'quiquia.': 3,\n",
              " 'Non': 1,\n",
              " 'neque': 6,\n",
              " 'sit.': 2,\n",
              " 'Adipisci': 2,\n",
              " 'Consectetur': 4,\n",
              " 'numquam.': 4,\n",
              " 'Quisquam': 3,\n",
              " 'ipsum.': 2,\n",
              " 'Porro': 4,\n",
              " 'magnam': 7,\n",
              " 'Amet': 2,\n",
              " 'est.': 3,\n",
              " 'Sed': 1,\n",
              " 'amet': 8,\n",
              " 'Aliquam': 1,\n",
              " 'quaerat.Etincidunt': 1,\n",
              " 'Sit': 1,\n",
              " 'etincidunt.': 2,\n",
              " 'Magnam': 3,\n",
              " 'amet.': 2,\n",
              " 'Dolor': 3,\n",
              " 'labore.': 4,\n",
              " 'dolore.': 2,\n",
              " 'Labore': 2,\n",
              " 'neque.': 2,\n",
              " 'velit.': 1,\n",
              " 'Quaerat': 2,\n",
              " 'Voluptatem': 2,\n",
              " 'tempora.': 1,\n",
              " 'aliquam.': 2,\n",
              " 'Quiquia': 2,\n",
              " 'modi.': 1,\n",
              " 'adipisci.': 1,\n",
              " 'dolor.': 1}"
            ]
          },
          "metadata": {},
          "execution_count": 23
        }
      ]
    },
    {
      "cell_type": "markdown",
      "metadata": {
        "cell_id": "00013-ebc8bebc-9289-4ced-b4b8-88e650468081",
        "deepnote_cell_type": "markdown",
        "output_cleared": false,
        "id": "eX0Hl8t1GGTS"
      },
      "source": [
        "## Container datatypes\n",
        "\n",
        "`collection` 모듈은 파이썬의 일반 목적(general-purpose)의 built-in 컨테이너에 대체제들을 제공하는 specialized된 컨테이너 데이터타입이다.\n",
        "예로, `dict`, `list`, `set`, 그리고 `tuple`이 있다.\n",
        "\n",
        "- `defaultdict` :\t결측값(missing values)을 제공하기 위한 factory function을 제공하는 dict의 서브클래스이다.\n",
        "- `Counter`\t: hashable objects를 세는 dict의 서브클래스이다."
      ]
    },
    {
      "cell_type": "markdown",
      "metadata": {
        "cell_id": "00014-6c0aa99c-a287-4f95-aeac-2128d9111f9b",
        "deepnote_cell_type": "markdown",
        "output_cleared": false,
        "id": "YOB3Oz-GGGTS"
      },
      "source": [
        "### defaultdict\n",
        "\n",
        "`wordcount` 함수를 구현하려고 할때, 상당수들은 `dict`에 대한 key-value 쌍을 추가(append)하는데 문제를 갖는다. 다시 말해서,  `dict` 내 존재하지 않는 key의 값을 변경하려고 하려고 때, key는 자동으로 생성되지 않는다.\n",
        "\n",
        "일반적으로, 우리는 `try-except` flow을 사용하지만 `defaultdict`가 좋은 솔루션이 될수 있다. 이 컨테이너는 `dict`의 서브클래스이고 결측값을 제공하는 factory function을 제공한다.\n",
        "예로, 기본 factory로서 list를 다루는 것은, key-value 쌍의 sequence를 dictionary의 list로 그룹화하는 것은 매우 싶다."
      ]
    },
    {
      "cell_type": "code",
      "execution_count": null,
      "metadata": {
        "cell_id": "00015-e3838c4c-076b-4219-a3ae-1a03431b9997",
        "deepnote_cell_type": "code",
        "execution_millis": 8,
        "execution_start": 1604475118195,
        "output_cleared": false,
        "source_hash": "5e869425",
        "trusted": false,
        "id": "nM-U33zzGGTT"
      },
      "outputs": [],
      "source": [
        "from collections import defaultdict\n",
        "s = [('yellow', 1), ('blue', 2), ('yellow', 3), ('blue', 4), ('red', 1)]\n",
        "d = defaultdict(list)\n",
        "for k, v in s:\n",
        "    d[k].append(v)\n",
        "\n",
        "dict(d)"
      ]
    },
    {
      "cell_type": "markdown",
      "metadata": {
        "cell_id": "00016-122ba1b5-d377-49ac-91da-939a566d3bff",
        "deepnote_cell_type": "markdown",
        "output_cleared": false,
        "id": "b2lGcKwrGGTU"
      },
      "source": [
        "### Exercise 1.4\n",
        "\n",
        "- 기존에 작성한 reduce 함수를 수정하시오. `defaultdict`를 사용하여 가장 적합한 factory 가진 함수를 생성하시오."
      ]
    },
    {
      "cell_type": "code",
      "source": [
        "from collections import defaultdict\n",
        "\n",
        "def factory(filename):\n",
        "  f=open(filename,'r')\n",
        "  words=f.read().split()\n",
        "  counter=defaultdict(int)\n",
        "  for i in words:\n",
        "    counter[i]+=1\n",
        "\n",
        "  return dict(counter)\n",
        "\n",
        "factory('sample.txt')\n"
      ],
      "metadata": {
        "colab": {
          "base_uri": "https://localhost:8080/"
        },
        "id": "Vjl1RSE_q5Kb",
        "outputId": "6443d9ea-8b12-4155-fa17-8a484548942b"
      },
      "execution_count": 35,
      "outputs": [
        {
          "output_type": "execute_result",
          "data": {
            "text/plain": [
              "{'Etincidunt': 3,\n",
              " 'porro': 8,\n",
              " 'etincidunt': 9,\n",
              " 'consectetur': 10,\n",
              " 'labore': 14,\n",
              " 'velit': 10,\n",
              " 'dolor': 13,\n",
              " 'ut.': 6,\n",
              " 'Modi': 5,\n",
              " 'est': 10,\n",
              " 'quisquam': 10,\n",
              " 'ut': 6,\n",
              " 'sed.': 4,\n",
              " 'Eius': 2,\n",
              " 'sit': 7,\n",
              " 'numquam': 14,\n",
              " 'quisquam.': 3,\n",
              " 'Numquam': 1,\n",
              " 'quaerat': 10,\n",
              " 'non': 8,\n",
              " 'quiquia': 6,\n",
              " 'ipsum': 10,\n",
              " 'non.': 3,\n",
              " 'Ipsum': 6,\n",
              " 'dolore': 9,\n",
              " 'adipisci': 9,\n",
              " 'voluptatem.': 2,\n",
              " 'Est': 3,\n",
              " 'dolorem': 15,\n",
              " 'porro.': 3,\n",
              " 'Dolore': 4,\n",
              " 'voluptatem': 13,\n",
              " 'eius': 14,\n",
              " 'dolorem.': 2,\n",
              " 'modi': 10,\n",
              " 'aliquam': 8,\n",
              " 'Velit': 5,\n",
              " 'tempora': 10,\n",
              " 'eius.': 5,\n",
              " 'Dolorem': 1,\n",
              " 'sed': 8,\n",
              " 'quaerat.': 2,\n",
              " 'quiquia.': 3,\n",
              " 'Non': 1,\n",
              " 'neque': 6,\n",
              " 'sit.': 2,\n",
              " 'Adipisci': 2,\n",
              " 'Consectetur': 4,\n",
              " 'numquam.': 4,\n",
              " 'Quisquam': 3,\n",
              " 'ipsum.': 2,\n",
              " 'Porro': 4,\n",
              " 'magnam': 7,\n",
              " 'Amet': 2,\n",
              " 'est.': 3,\n",
              " 'Sed': 1,\n",
              " 'amet': 8,\n",
              " 'Aliquam': 1,\n",
              " 'quaerat.Etincidunt': 1,\n",
              " 'Sit': 1,\n",
              " 'etincidunt.': 2,\n",
              " 'Magnam': 3,\n",
              " 'amet.': 2,\n",
              " 'Dolor': 3,\n",
              " 'labore.': 4,\n",
              " 'dolore.': 2,\n",
              " 'Labore': 2,\n",
              " 'neque.': 2,\n",
              " 'velit.': 1,\n",
              " 'Quaerat': 2,\n",
              " 'Voluptatem': 2,\n",
              " 'tempora.': 1,\n",
              " 'aliquam.': 2,\n",
              " 'Quiquia': 2,\n",
              " 'modi.': 1,\n",
              " 'adipisci.': 1,\n",
              " 'dolor.': 1}"
            ]
          },
          "metadata": {},
          "execution_count": 35
        }
      ]
    },
    {
      "cell_type": "markdown",
      "metadata": {
        "cell_id": "00017-d3a9fada-46c7-43aa-808e-6aafb5f88b51",
        "deepnote_cell_type": "markdown",
        "output_cleared": false,
        "id": "mGSuPOe7GGTU"
      },
      "source": [
        "### Counter\n",
        "\n",
        "Counter는 `dict`의 서브클래스로 hashable object를 세기 위해 사용된다. 이것은 unordered collection이기 때문에 elements들은 key와 그의 갯수로 저장된다. Counts로는 0과 음수를 포함하는 integer 값이 허락된다.\n",
        "elements들은 iterable 혹은 또다른 매핑에 의해 세어진다."
      ]
    },
    {
      "cell_type": "code",
      "execution_count": null,
      "metadata": {
        "cell_id": "00018-0a4a9a48-d6d4-458d-8456-9d09663c2dd6",
        "deepnote_cell_type": "code",
        "execution_millis": 0,
        "execution_start": 1604475118223,
        "output_cleared": false,
        "source_hash": "6c91b3d3",
        "trusted": false,
        "id": "jw4l_kYaGGTV"
      },
      "outputs": [],
      "source": [
        "from collections import Counter\n",
        "\n",
        "violet = dict(r=23,g=13,b=23)\n",
        "print(violet)\n",
        "cnt = Counter(violet)  # or Counter(r=238, g=130, b=238)\n",
        "print(cnt['c'])\n",
        "print(cnt['r'])"
      ]
    },
    {
      "cell_type": "code",
      "execution_count": null,
      "metadata": {
        "cell_id": "00019-d1ee2786-b0d6-4df6-9248-6bd86afc4969",
        "deepnote_cell_type": "code",
        "execution_millis": 5,
        "execution_start": 1604475118225,
        "output_cleared": false,
        "source_hash": "882d365b",
        "trusted": false,
        "id": "ms2qEtxrGGTV"
      },
      "outputs": [],
      "source": [
        "print(*cnt.elements())"
      ]
    },
    {
      "cell_type": "code",
      "execution_count": null,
      "metadata": {
        "cell_id": "00020-b5a17f34-1b0d-41b0-92d1-59d914b04baa",
        "deepnote_cell_type": "code",
        "execution_millis": 0,
        "execution_start": 1604475118240,
        "output_cleared": false,
        "source_hash": "5a80c266",
        "trusted": false,
        "id": "0tq3OTtqGGTV"
      },
      "outputs": [],
      "source": [
        "cnt.most_common(2)"
      ]
    },
    {
      "cell_type": "code",
      "execution_count": null,
      "metadata": {
        "cell_id": "00021-5e8b6b05-72fd-46ae-a211-6b918e042456",
        "deepnote_cell_type": "code",
        "execution_millis": 1,
        "execution_start": 1604475118247,
        "output_cleared": false,
        "source_hash": "ab270fed",
        "trusted": false,
        "id": "eshZDSMxGGTW"
      },
      "outputs": [],
      "source": [
        "cnt.values()"
      ]
    },
    {
      "cell_type": "markdown",
      "metadata": {
        "cell_id": "00022-1602b845-b3bc-458e-80cf-0e8383658965",
        "deepnote_cell_type": "markdown",
        "output_cleared": false,
        "id": "kx7I0RdEGGTW"
      },
      "source": [
        "### Exercise 1.5\n",
        "\n",
        "`Counter` 를 사용하여 앞서 생성한 sample text 파일 내 단어별 발생빈도(occurrences)을 계산하시오."
      ]
    },
    {
      "cell_type": "markdown",
      "metadata": {
        "cell_id": "00023-41739068-8064-4f15-b7d2-e0c2c63a0e05",
        "deepnote_cell_type": "markdown",
        "output_cleared": false,
        "id": "x_gpnGp9GGTW"
      },
      "source": [
        "\n",
        "Counter class는 파이썬이나 다른언어의 bag이나 multi-sets 구조와 유사하다."
      ]
    },
    {
      "cell_type": "markdown",
      "metadata": {
        "cell_id": "00024-0f5a73db-6dc2-496c-94f8-8870157d739a",
        "deepnote_cell_type": "markdown",
        "output_cleared": false,
        "id": "MSyLX2iXGGTX"
      },
      "source": [
        "## Process multiple files\n",
        "\n",
        "- 우리는 'sample01.txt', 'sample02.txt'... 이름 형태의 `lorem` 텍스트 파일을 여러개 생성한다\n",
        "- 만약 여러개의 파일로을 처리하여 다수의 dictionary를 반환된다고 하자. 우리는 발생빈도를 합하고 그들을 최종 dict로 반환하기 위해 여러 파일들을 순환(loop over)해야 한다.\n",
        "- 각 매핑을 순환하기 위해, 파이썬은 `itertools` 모듈을 제공하고 있다.\n",
        "- [itertools.chain(*mapped_values)](https://docs.python.org/3.6/library/itertools.html#itertools.chain) 는 연속적인 순차(consecutive sequences)를 하나의 sequences로 다루기 위해 사용된다."
      ]
    },
    {
      "cell_type": "code",
      "execution_count": null,
      "metadata": {
        "cell_id": "00025-944ba1df-e400-4e23-830f-a658dfe9f3de",
        "deepnote_cell_type": "code",
        "execution_millis": 8,
        "execution_start": 1604475118255,
        "output_cleared": false,
        "source_hash": "d1e71c55",
        "trusted": false,
        "id": "rcfs9fp9GGTX",
        "outputId": "d944958b-f00b-4b7c-bc0f-32085522082c"
      },
      "outputs": [
        {
          "data": {
            "text/plain": "{'orange': 1,\n 'spinach': 1,\n 'banana': 2,\n 'endive': 2,\n 'apple': 3,\n 'carrot': 4,\n 'pear': 5,\n 'celery': 5}"
          },
          "execution_count": 3,
          "metadata": {},
          "output_type": "execute_result"
        }
      ],
      "source": [
        "import itertools, operator\n",
        "fruits = [('apple', 3), ('banana', 2), ('pear', 5), ('orange', 1)]\n",
        "vegetables = [('endive', 2), ('spinach', 1), ('celery', 5), ('carrot', 4)]\n",
        "getcount = operator.itemgetter(1)\n",
        "dict(sorted(itertools.chain(fruits,vegetables), key=getcount))"
      ]
    },
    {
      "cell_type": "markdown",
      "metadata": {
        "cell_id": "00026-f4402095-8b81-44a3-9997-67db7087d6a5",
        "deepnote_cell_type": "markdown",
        "output_cleared": false,
        "id": "8u6GmOQ6GGTY"
      },
      "source": [
        "### Exercise 1.6\n",
        "\n",
        "- 텍스트내 단어별 발생빈도를 통합(merge)하는 프로그램을 작성하시오\n",
        "- 프로그램은 여러 파일을 생성하고,  `itertools.chain` 사용하여 처리해야함"
      ]
    },
    {
      "cell_type": "markdown",
      "metadata": {
        "cell_id": "00027-8a0dfd3f-d700-489b-a879-d3e9879bdd93",
        "deepnote_cell_type": "markdown",
        "output_cleared": false,
        "id": "i-hLbcisGGTY"
      },
      "source": [
        "### Exercise 1.7\n",
        "\n",
        "- `wordcount` 함수를 생성하시오. 해당 함수는 여러개의 파일을 arguments로 받고 결과를 하나의 `dict`로 반환합니다.\n",
        "\n",
        "```\n",
        "wordcount(file1, file2, file3, ...)\n",
        "```\n"
      ]
    },
    {
      "cell_type": "markdown",
      "metadata": {
        "cell_id": "00028-b3891c59-e9f3-42d2-9345-47d98c195682",
        "deepnote_cell_type": "markdown",
        "output_cleared": false,
        "id": "Yt8223YoGGTY"
      },
      "source": [
        "다음은 arbitrary argument list과  arbitrary named arguments의 사용 예제입니다.\n",
        "\n",
        "[Hint: arbitrary argument lists](https://docs.python.org/3/tutorial/controlflow.html#arbitrary-argument-lists)"
      ]
    },
    {
      "cell_type": "code",
      "execution_count": null,
      "metadata": {
        "cell_id": "00029-4f68a23c-8c3c-4549-aeff-b8e79cfb2f81",
        "deepnote_cell_type": "code",
        "execution_millis": 2,
        "execution_start": 1604475118265,
        "output_cleared": false,
        "source_hash": "c0a56b7c",
        "trusted": false,
        "id": "-UG1_OIEGGTZ"
      },
      "outputs": [],
      "source": [
        "def func( *args, **kwargs):\n",
        "    for arg in args:\n",
        "        print(arg)\n",
        "        \n",
        "    print(kwargs)\n",
        "        \n",
        "func( \"3\", [1,2], \"bonjour\", x = 4, y = \"y\")"
      ]
    }
  ],
  "metadata": {
    "deepnote_execution_queue": [],
    "deepnote_notebook_id": "bf9733d2-1012-4178-92b2-000cc427adbe",
    "kernelspec": {
      "name": "python3",
      "language": "python",
      "display_name": "Python 3"
    },
    "colab": {
      "provenance": [],
      "include_colab_link": true
    }
  },
  "nbformat": 4,
  "nbformat_minor": 0
}